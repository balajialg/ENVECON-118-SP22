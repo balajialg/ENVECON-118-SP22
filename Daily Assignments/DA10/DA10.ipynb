{
 "cells": [
  {
   "cell_type": "markdown",
   "metadata": {},
   "source": [
    "# Daily Assignment 10 - EEP 118 Spring 2022\n"
   ]
  },
  {
   "cell_type": "markdown",
   "metadata": {},
   "source": [
    "## 1.\n",
    "\n",
    "Using the retail gasoline data for South California cities over time I am really confused why git conflict is not happening, maybe i should make student change we found the following mean and standard deviation for the retail price (in US dollars per gallon - including all taxes) in areas close (within one mile) to a free way exit and areas not close to a free way exit, respectively: \n",
    "\n",
    "| Group | Variable | Obs | Mean | Std. Dev. | Min | Max |\n",
    "|-------|----------|-----|------|-----------|-----|-----|\n",
    "| Near FreeWay Exit | Retail Price of Gas in gallons are | 500 | 2.45|1.156|2.12|3.05|\n",
    "| Not Near FreeWay Exit | Retail Price of Gas | 236 | 2.03|2.342|1.56|3.00|\n",
    "\n",
    "\n",
    "Do the data given in the previous table provide statistical evidence at the 1\\% significance level that the average gasoline price near free way exits is higher than the average gasoline price elsewhere? (To answer this question, call $D$ the difference in mean R of the two groups; suggest an estimator $\\hat{D}$ for $D$ and for the standard error of $\\hat{D}$; and then use the 5 steps for hypothesis testing that we followed in class.)"
   ]
  },
  {
   "cell_type": "markdown",
   "metadata": {},
   "source": [
    "Write your response to 1. here"
   ]
  },
  {
   "cell_type": "code",
   "execution_count": null,
   "metadata": {},
   "outputs": [],
   "source": [
    "# add any code for 1. here"
   ]
  },
  {
   "cell_type": "markdown",
   "metadata": {},
   "source": [
    "## 2.\n",
    "\n",
    "In order to estimate the following model of emission by power plants:\n",
    "\n",
    "$$log(CO2)=\\beta_0+\\beta_1 log(Q) + \\beta_2 OLD + u$$\n",
    "\n",
    "you collect information from 110 firms on carbon dioxide emission (CO2), their level of production (Q), and a dummy variable that is equal to 1 for firms whose generator is older than 15 years (OLD) and zero otherwise.  The estimated equation is the following:\n",
    "\n",
    "\n",
    "$$\\widehat{log(CO2)}= 2.54 + 0.924 \\ log(Q) + 0.210 \\ OLD $$\n",
    "$$ \\ \\ \\ \\ \\ \\ \\ \\ \\ \\             (0.52) \\ \\  \\ \\ (0.042) \\ \\ \\ \\ \\ \\  \\ \\ (0.097)$$\n",
    "\n",
    "(standard errors in parentheses)\n",
    "\n",
    "### a.\n",
    "What is the economic interpretation of the true parameters $\\beta_1$ and $\\beta_2$?"
   ]
  },
  {
   "cell_type": "markdown",
   "metadata": {},
   "source": [
    "Write your response to 2a. here"
   ]
  },
  {
   "cell_type": "code",
   "execution_count": null,
   "metadata": {},
   "outputs": [],
   "source": [
    "# add any code for 2b. here"
   ]
  },
  {
   "cell_type": "markdown",
   "metadata": {},
   "source": [
    "### b.\n",
    "Formally test whether *OLD* has any effect on *log(CO2)* at the 5\\% significance level"
   ]
  },
  {
   "cell_type": "markdown",
   "metadata": {},
   "source": [
    "Write your response to 2b. here"
   ]
  },
  {
   "cell_type": "code",
   "execution_count": null,
   "metadata": {},
   "outputs": [],
   "source": [
    "# add any code for 2b. here"
   ]
  }
 ],
 "metadata": {
  "kernelspec": {
   "display_name": "R",
   "language": "R",
   "name": "ir"
  },
  "language_info": {
   "codemirror_mode": "r",
   "file_extension": ".r",
   "mimetype": "text/x-r-source",
   "name": "R",
   "pygments_lexer": "r",
   "version": "4.1.1"
  }
 },
 "nbformat": 4,
 "nbformat_minor": 2
}
