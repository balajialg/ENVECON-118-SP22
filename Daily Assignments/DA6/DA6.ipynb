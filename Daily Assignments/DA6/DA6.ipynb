{
 "cells": [
  {
   "cell_type": "markdown",
   "metadata": {},
   "source": [
    "# Daily Assignment 6 - EEP 118 Spring 2022"
   ]
  },
  {
   "cell_type": "markdown",
   "metadata": {},
   "source": [
    "## 1. Practice Exercise after Lecture 6\n",
    "\n",
    "\n",
    " In order to test whether the retail price of gasoline varies across areas in ways that suggest price discrimination, we use ZIP code-level data on the price of gasoline in South California over time, and estimate the following regressions:\n",
    "\\begin{align}\n",
    "\\widehat{\\ln(R)}& =-0.32+ 0.008 prpblack  + 0.011 \\ln(income)+0.075 MC  ~~~~~~~~~~~~~~~~ n=1462~~~~~ R^2=.678\\\\\n",
    "\\widehat{\\ln(R)}& =-0.010+ 0.004 prpblack  +0.083 MC  \\hspace{5cm} n=1462 ~~~~~ R^2=.608\n",
    "\\end{align} \n",
    "where  $R$ is the retail price of gasoline, $prpblack$ is the proportion of the ZIP code population that is black, $income$ the average income in the ZIP code, and $MC$ a dummy variable for a Major City in South CA.\n",
    "\n",
    "1. Interpret the estimated coefficients on $prpblack$ and on $MC$ in model 1 (Remember to discuss sign and size)."
   ]
  },
  {
   "cell_type": "markdown",
   "metadata": {},
   "source": [
    "Add written answer to 1. here"
   ]
  },
  {
   "cell_type": "markdown",
   "metadata": {},
   "source": [
    "2. Comparing the results from the two estimations, is discrimination larger or smaller when you control for the income variable? What do you infer from this on the correlation between the average income and the racial characteristics of the zip code (justify your claim)?   "
   ]
  },
  {
   "cell_type": "markdown",
   "metadata": {},
   "source": [
    "Add written answer to 2. here"
   ]
  },
  {
   "cell_type": "code",
   "execution_count": null,
   "metadata": {},
   "outputs": [],
   "source": [
    "# Loading packages\n",
    "library(haven) # for loading dta file\n",
    "library(readxl) # for loading excel files\n",
    "library(tidyverse) # for dplyr/ggplot/more"
   ]
  },
  {
   "cell_type": "markdown",
   "metadata": {},
   "source": [
    "## R Applied Exercise\n",
    "\n",
    "\n",
    "The following table contains the quantity and the price of a barrel of oil for twelve periods. Price is in dollars and quantity is in thousand of barrels. This table is in the Daily Assigment Folder saved as two file formats,  oilDemand.dta and oilDemand.xlsx.\n",
    "\n",
    "\n",
    "| Period | World Q | Oil Price |\n",
    "|--------|---------|-----------|\n",
    "| 1 |61440 | 145.43|\n",
    "| 2 | 62083 | 145.21 |\n",
    "| 3 | 62769|134.41|\n",
    "| 4 | 64494|121.29|\n",
    "| 5 | 66023|114.24|\n",
    "| 6 | 67769|107.88|\n",
    "| 7 | 69652|103.73|\n",
    "| 8 | 70206|94.62|\n",
    "| 9 | 73530|86.70|\n",
    "| 10 | 74540|75.07|\n",
    "| 11 | 76258|73.26|\n",
    "| 12 | 75502|67.35|\n"
   ]
  },
  {
   "cell_type": "markdown",
   "metadata": {},
   "source": [
    "(i). Using R, load either `oilDemand.dta` or the excel equivalent"
   ]
  },
  {
   "cell_type": "code",
   "execution_count": 13,
   "metadata": {},
   "outputs": [],
   "source": [
    "# add code for (i) here"
   ]
  },
  {
   "cell_type": "markdown",
   "metadata": {},
   "source": [
    "(ii). Estimate the relationship between Quantity Q and price using OLS; that is, obtain the intercept and slope estimates in the equation\n",
    "\t$$\\widehat{Q} = \\hat{\\alpha}_0+\\hat{\\alpha}_1 price$$\n",
    "    \n",
    "Comment on the direction of the relationship. Does the intercept have a useful interpretation here? Explain. How much higher is the Quantity predicted to be if the price is increased by 25 dollars?\t"
   ]
  },
  {
   "cell_type": "code",
   "execution_count": null,
   "metadata": {},
   "outputs": [],
   "source": [
    "# enter code for (ii) here"
   ]
  },
  {
   "cell_type": "markdown",
   "metadata": {},
   "source": [
    "Add written answer to (ii) here"
   ]
  },
  {
   "cell_type": "markdown",
   "metadata": {},
   "source": [
    "(iii.) Create a new variable that consists of the fitted values and residuals for each observation, and verify that the residuals (approximately) sum to zero."
   ]
  },
  {
   "cell_type": "code",
   "execution_count": null,
   "metadata": {},
   "outputs": [],
   "source": [
    "# add code for (iii) here"
   ]
  },
  {
   "cell_type": "markdown",
   "metadata": {},
   "source": [
    "(iv). What is the predicted value of Quantity when price $=100$?"
   ]
  },
  {
   "cell_type": "code",
   "execution_count": null,
   "metadata": {},
   "outputs": [],
   "source": [
    "# add code for (iv) here "
   ]
  },
  {
   "cell_type": "markdown",
   "metadata": {},
   "source": [
    "Add written answer for (iv) here"
   ]
  },
  {
   "cell_type": "markdown",
   "metadata": {},
   "source": [
    "(v). How much variation in Quantity for these twelve periods is explained by price? Explain."
   ]
  },
  {
   "cell_type": "code",
   "execution_count": null,
   "metadata": {},
   "outputs": [],
   "source": [
    "# add code for (v) here "
   ]
  },
  {
   "cell_type": "markdown",
   "metadata": {},
   "source": [
    "Add written answer for (v) here"
   ]
  },
  {
   "cell_type": "markdown",
   "metadata": {},
   "source": [
    "(vi). Plot data and fitted values into the same figure."
   ]
  },
  {
   "cell_type": "code",
   "execution_count": null,
   "metadata": {},
   "outputs": [],
   "source": [
    "# add code for (vi) here "
   ]
  },
  {
   "cell_type": "markdown",
   "metadata": {},
   "source": [
    "Add written answer for (vi) here"
   ]
  },
  {
   "cell_type": "markdown",
   "metadata": {},
   "source": [
    "See solutions pdf on bCourses and the *DA6.R* file for commands to solve the above."
   ]
  },
  {
   "cell_type": "markdown",
   "metadata": {},
   "source": [
    "## Replication Lecture 6\n",
    "\n",
    "Feel free to replicate all we did in Lecture 6, by running in R the code `Lecture6.R` that uses  `Lecture6.dta`.\n"
   ]
  },
  {
   "cell_type": "code",
   "execution_count": null,
   "metadata": {},
   "outputs": [],
   "source": [
    "# use for replication by copying code or run .R file in RStudio on datahub"
   ]
  }
 ],
 "metadata": {
  "kernelspec": {
   "display_name": "R",
   "language": "R",
   "name": "ir"
  },
  "language_info": {
   "codemirror_mode": "r",
   "file_extension": ".r",
   "mimetype": "text/x-r-source",
   "name": "R",
   "pygments_lexer": "r",
   "version": "4.1.1"
  }
 },
 "nbformat": 4,
 "nbformat_minor": 2
}
