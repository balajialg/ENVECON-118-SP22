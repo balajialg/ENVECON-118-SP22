{
 "cells": [
  {
   "cell_type": "markdown",
   "metadata": {},
   "source": [
    "# Daily Assignment 12 - EEP 118 Spring 2022\n"
   ]
  },
  {
   "cell_type": "code",
   "execution_count": null,
   "metadata": {},
   "outputs": [],
   "source": [
    "# Loading packages\n",
    "library(car) # for linearHypothesis()\n",
    "library(haven) # for loading dta file\n",
    "library(tidyverse) # for dplyr/ggplot/more"
   ]
  },
  {
   "cell_type": "markdown",
   "metadata": {},
   "source": [
    "First, read in the data and summarize it."
   ]
  },
  {
   "cell_type": "code",
   "execution_count": null,
   "metadata": {},
   "outputs": [],
   "source": [
    "my_data <- read_dta(\"Lecture12twoyear.dta\")\n",
    "head(my_data)\n",
    "\n",
    "# first select the four we want to keep, then pass to summary()\n",
    "select(my_data, exper, jc, univ, lwage) %>%\n",
    " summary()"
   ]
  },
  {
   "cell_type": "markdown",
   "metadata": {},
   "source": [
    "Now perform an F test for $q=2$ restrictions on parameters of a linear regression model using `linearHypothesis()` in the **cars** package"
   ]
  },
  {
   "cell_type": "code",
   "execution_count": null,
   "metadata": {},
   "outputs": [],
   "source": [
    "#regression unrestricted model\n",
    "reg12college1<-lm(lwage ~ jc + univ + exper, my_data) \n",
    "#show\n",
    "summary(reg12college1)\n",
    "\n",
    "#Now test that param jc equal param univ\n",
    "linearHypothesis(reg12college1, \"jc = univ\")"
   ]
  },
  {
   "cell_type": "markdown",
   "metadata": {},
   "source": [
    "See lecture notes for manual F stat computation like in the birth weight data example using SSR and also using R squared.\n",
    "\n",
    "Alternatively, slide 24 of Lecture 12 notes shows that how to run the regression restricted model such that a parameter is already the tested object, i.e. test coeff of beta_univ=0 is the null of whether univ and jc have similar returns on wages"
   ]
  },
  {
   "cell_type": "code",
   "execution_count": null,
   "metadata": {},
   "outputs": [],
   "source": [
    "my_data <- mutate(my_data, totcollege = jc + univ)\n",
    "reg12_college2<- lm( lwage ~ totcollege+ univ+ exper, my_data)\n",
    "summary(reg12_college2)"
   ]
  }
 ],
 "metadata": {
  "kernelspec": {
   "display_name": "R",
   "language": "R",
   "name": "ir"
  },
  "language_info": {
   "codemirror_mode": "r",
   "file_extension": ".r",
   "mimetype": "text/x-r-source",
   "name": "R",
   "pygments_lexer": "r",
   "version": "4.1.1"
  }
 },
 "nbformat": 4,
 "nbformat_minor": 2
}
