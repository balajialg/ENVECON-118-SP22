{
 "cells": [
  {
   "cell_type": "markdown",
   "metadata": {},
   "source": [
    "# Daily Assignment 16 - EEP 118"
   ]
  },
  {
   "cell_type": "markdown",
   "metadata": {},
   "source": [
    "## Effect of Flushot in Preventing Sickdays\n",
    "\n",
    "Suppose you have data for a sample of employees of a firm on the number of sick leave days taken in one year (*sickdays*), a rough estimate of how many people the employee comes in contact during his/her workday(*contacts*), and whether or not the they got a flu shot (*shot* = 1 for those who got a flu shot and *shot* = 0 for those who did not). The data give you the following plot:\n",
    "\n",
    "<p style=\"text-align: center;\"> </p>\n",
    "\n",
    "<img src=\"Images/exercise2.png\" width=\"800\" />"
   ]
  },
  {
   "cell_type": "markdown",
   "metadata": {},
   "source": [
    "**1.** Reading from the graph, explain in words the effect of flu shot on sick leave days."
   ]
  },
  {
   "cell_type": "markdown",
   "metadata": {},
   "source": [
    "Enter written answer for 1. here"
   ]
  },
  {
   "cell_type": "markdown",
   "metadata": {},
   "source": [
    "**2.** You estimate the following model:\n",
    "\n",
    "$$ \\widehat{sickdays} = \\hat\\beta_0 + \\hat\\beta_1 contacts + \\hat\\beta_2shot + \\hat\\beta_3(contacts\\times shot)$$\n",
    "\n",
    "\n",
    "What do you expect to find for the sign and significance of $\\hat\\beta_0$, $\\hat\\beta_1$, $\\hat\\beta_2$, and $\\hat\\beta_3$ given the graph of your data above?"
   ]
  },
  {
   "cell_type": "markdown",
   "metadata": {},
   "source": [
    "Enter written answer for 2. here"
   ]
  },
  {
   "cell_type": "markdown",
   "metadata": {},
   "source": [
    "## Problem C13.7, Wooldridge pg. 475\n",
    "\n",
    "Using the data from `INJURY.dta`, we estimate:\n",
    "\n",
    "$$ \\widehat{\\ln(durat)} = \\beta_0 + \\beta_1 \\log(lotsize) + \\beta_2\\log(sqrft) + \\beta_3bdrms + u$$\n",
    "\n",
    "where $\\ln(durat)$ is the logged length of time (in weeks) that an injured worker receives workers' compensation, $afchnge$ is a dummy for observations after the policy change$^1$, and $highearn$ is a dummy for high earners.\n",
    "\n",
    "**(i)** What is the estimated effect of the policy change on workers' compensation duration for high earners? What is the estimated effect of the policy change on workers' compensation duration for low earners?"
   ]
  },
  {
   "cell_type": "code",
   "execution_count": 1,
   "metadata": {},
   "outputs": [],
   "source": [
    "# add any code for (i) here"
   ]
  },
  {
   "cell_type": "markdown",
   "metadata": {},
   "source": [
    "Add written answer for (i) here."
   ]
  },
  {
   "cell_type": "markdown",
   "metadata": {},
   "source": [
    "$^1$: On July 15, 1980, Kentucky raised the cap on weekly earnings that were covered by workers' compensation"
   ]
  }
 ],
 "metadata": {
  "kernelspec": {
   "display_name": "R",
   "language": "R",
   "name": "ir"
  },
  "language_info": {
   "codemirror_mode": "r",
   "file_extension": ".r",
   "mimetype": "text/x-r-source",
   "name": "R",
   "pygments_lexer": "r",
   "version": "4.1.1"
  }
 },
 "nbformat": 4,
 "nbformat_minor": 2
}
