{
 "cells": [
  {
   "cell_type": "markdown",
   "metadata": {},
   "source": [
    "# Daily Assignment 7 - EEP 118 Spring 2022\n",
    "\n",
    "## Replicating Lecture 7 in R"
   ]
  },
  {
   "cell_type": "code",
   "execution_count": null,
   "metadata": {},
   "outputs": [],
   "source": [
    "# Loading packages\n",
    "library(haven) # for loading dta file\n",
    "library(tidyverse) # for dplyr/ggplot/more"
   ]
  },
  {
   "cell_type": "markdown",
   "metadata": {},
   "source": [
    "First, read in the data and generate new variables"
   ]
  },
  {
   "cell_type": "code",
   "execution_count": null,
   "metadata": {},
   "outputs": [],
   "source": [
    "my_data <- read_dta(\"dataLecture7.dta\") %>%\n",
    "    mutate(Y = trump16/clinton16,\n",
    "           x1 = romney12/obama12)\n",
    "head(my_data)"
   ]
  },
  {
   "cell_type": "markdown",
   "metadata": {},
   "source": [
    "Use non missing values only from now on (i.e. drop rows with any NAs using `drop_na()`) and drop any infinite values"
   ]
  },
  {
   "cell_type": "code",
   "execution_count": null,
   "metadata": {},
   "outputs": [],
   "source": [
    "my_data2 <- drop_na(my_data) %>%\n",
    "            filter(!is.infinite(Y), !is.infinite(x1))\n",
    "summary(my_data2)"
   ]
  },
  {
   "cell_type": "markdown",
   "metadata": {},
   "source": [
    "Run the full model regression"
   ]
  },
  {
   "cell_type": "code",
   "execution_count": null,
   "metadata": {},
   "outputs": [],
   "source": [
    "regfull<-lm(Y ~ x1 + white_pct, my_data2)\n",
    "summary(regfull)"
   ]
  },
  {
   "cell_type": "markdown",
   "metadata": {},
   "source": [
    "Now run the regression omitting percent white as a control"
   ]
  },
  {
   "cell_type": "code",
   "execution_count": null,
   "metadata": {},
   "outputs": [],
   "source": [
    "regsmall<-lm(Y ~ x1, my_data2)\n",
    "summary(regsmall)"
   ]
  },
  {
   "cell_type": "markdown",
   "metadata": {},
   "source": [
    "## Collinearity Slides\n",
    "\n",
    "First run the baseline model, then the alternate models with 1. perfect collinearity and 2. multi-collinearity (or near-perfect collinearity)"
   ]
  },
  {
   "cell_type": "code",
   "execution_count": null,
   "metadata": {},
   "outputs": [],
   "source": [
    "#Baseline Model \n",
    "regBase <- lm(Y~x1+female_pct+white_pct, my_data2)\n",
    "summary(regBase)\n",
    "\n",
    "#Alternative Model: Perfect collinearity\n",
    "my_data2 <- mutate(my_data2, male_pct = 1 - female_pct)\n",
    "regPC <- lm(Y~x1+female_pct+male_pct+white_pct, my_data2)\n",
    "summary(regPC)\n",
    "\n",
    "\n",
    "#Alternative Model: Multi collinearity\n",
    "regMC <- lm(Y~x1+female_pct+white_pct+bh_pct, my_data2)\n",
    "#where corr(white_pct,bh_pct)=-0.92\n",
    "summary(regMC)"
   ]
  },
  {
   "cell_type": "markdown",
   "metadata": {},
   "source": [
    "Get the predicted $\\hat y$ for the graph in slide 28"
   ]
  },
  {
   "cell_type": "code",
   "execution_count": null,
   "metadata": {},
   "outputs": [],
   "source": [
    "my_data2 <- mutate(my_data2, Yhat = regBase$fitted.values)"
   ]
  },
  {
   "cell_type": "markdown",
   "metadata": {},
   "source": [
    "Now put Y and Y hat on same graph and x1 on horizontal axis. make combined scatter plot of Y data and fitted values of Y (Yhat) given regression estimates using X1, white_pct and female_pct"
   ]
  },
  {
   "cell_type": "code",
   "execution_count": null,
   "metadata": {},
   "outputs": [],
   "source": [
    "ggplot(data = my_data2) + geom_point(aes(x=x1, y=Y, color = \"data\")) +\n",
    "  geom_point(aes(x=x1, y=Yhat, color = \"fitted\")) + \n",
    "labs(x = \"x1=Ratio Rodney to Obama Votes in 2012\",\n",
    "    y = \"Y=Ratio Trump to Clinton Votes in 2016\",\n",
    "    title = \"Y (Red) and Predicted Y (Blue) and x1\")"
   ]
  }
 ],
 "metadata": {
  "kernelspec": {
   "display_name": "R",
   "language": "R",
   "name": "ir"
  },
  "language_info": {
   "codemirror_mode": "r",
   "file_extension": ".r",
   "mimetype": "text/x-r-source",
   "name": "R",
   "pygments_lexer": "r",
   "version": "4.1.1"
  }
 },
 "nbformat": 4,
 "nbformat_minor": 2
}
