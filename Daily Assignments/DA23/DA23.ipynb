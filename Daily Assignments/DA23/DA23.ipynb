{
 "cells": [
  {
   "cell_type": "markdown",
   "metadata": {},
   "source": [
    "# Daily Assignment 23 - EEP 118"
   ]
  },
  {
   "cell_type": "code",
   "execution_count": null,
   "metadata": {},
   "outputs": [],
   "source": [
    "# Add Preamble code here (load packages and dataset)"
   ]
  },
  {
   "cell_type": "markdown",
   "metadata": {},
   "source": [
    "## Garbage Incinerators and Housing Values\n",
    "\n",
    "Kiel and McClain (1995) studied the effect that a new garbage incinerator had on housing values in North Andover, Massachusetts. We have two years of data: 1978, when there was just a rumor that an incinerator was going to be built, and 1981, when the location for the incinerator had been chosen and construction began. You might think that the prices of houses located close to the new incinerator would be affected. \n",
    "\n",
    "Use the data in `KIELMC.dta` for this exercise."
   ]
  },
  {
   "cell_type": "markdown",
   "metadata": {},
   "source": [
    "**1.** First estimate a simple difference-in-difference model to see the effect of the incinerator on the value of houses within 3 miles of the incinerator site:\n",
    "\n",
    "$$ rprice = \\beta_0 + \\beta_1nearinc + \\beta_2 y81 + \\beta_3(nearinc \\times y81) + u$$"
   ]
  },
  {
   "cell_type": "code",
   "execution_count": null,
   "metadata": {},
   "outputs": [],
   "source": [
    "# add any code for 1. here"
   ]
  },
  {
   "cell_type": "markdown",
   "metadata": {},
   "source": [
    "Enter written answer for 1. here"
   ]
  },
  {
   "cell_type": "markdown",
   "metadata": {},
   "source": [
    "**2.** What key assumption do you need to make for your regression in part 1. to estimate the causal effect of a new garbage incinerator on housing values?"
   ]
  },
  {
   "cell_type": "markdown",
   "metadata": {},
   "source": [
    "Enter written answer for 2. here"
   ]
  },
  {
   "cell_type": "markdown",
   "metadata": {},
   "source": [
    "**3.** How would you provide evidence for this assumption? What data would you need to complete this test?"
   ]
  },
  {
   "cell_type": "markdown",
   "metadata": {},
   "source": [
    "Enter written answer for 3. here"
   ]
  }
 ],
 "metadata": {
  "kernelspec": {
   "display_name": "R",
   "language": "R",
   "name": "ir"
  },
  "language_info": {
   "codemirror_mode": "r",
   "file_extension": ".r",
   "mimetype": "text/x-r-source",
   "name": "R",
   "pygments_lexer": "r",
   "version": "4.1.1"
  }
 },
 "nbformat": 4,
 "nbformat_minor": 2
}
