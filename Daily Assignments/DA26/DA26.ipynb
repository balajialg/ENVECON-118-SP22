{
 "cells": [
  {
   "cell_type": "markdown",
   "metadata": {},
   "source": [
    "# Daily Assignment 26 - EEP 118"
   ]
  },
  {
   "cell_type": "code",
   "execution_count": null,
   "metadata": {},
   "outputs": [],
   "source": [
    "# Add Preamble code here (load packages and dataset)"
   ]
  },
  {
   "cell_type": "markdown",
   "metadata": {},
   "source": [
    "## Time Series\n",
    "\n",
    "Using 41 years of data from 1947 to 1987, we analyze the real wage rate as a function of the average labor\n",
    "productivity in the US."
   ]
  },
  {
   "cell_type": "markdown",
   "metadata": {},
   "source": [
    "**1.** Looking at the following graph over time, what potential problem could a regression of wage on labor productivity raise? (*hint: see Lecture notes*)\n",
    "\n",
    "<p style=\"text-align: center;\"> </p>\n",
    "\n",
    "<img src=\"Images/da26_plot.png\" width=\"600\" />"
   ]
  },
  {
   "cell_type": "markdown",
   "metadata": {},
   "source": [
    "Enter written answer for 1. here"
   ]
  },
  {
   "cell_type": "markdown",
   "metadata": {},
   "source": [
    "**2.** What are the two procedures that could be employed to solve this problem? (*hint: see Lecture notes*)"
   ]
  },
  {
   "cell_type": "markdown",
   "metadata": {},
   "source": [
    "Enter written answer for 2. here"
   ]
  },
  {
   "cell_type": "markdown",
   "metadata": {},
   "source": [
    "**3.** Use the results of the regressions (1)-(3) given below to support the argument that you have just developed.\n",
    "\n",
    "| Model  | (1) | (2) | (3) | (4)|\n",
    "|---------- | --------- | ----------|---------------------------------|----------------------------------|\n",
    "| Variables | Real Wage | Real Wage | Real Wage (t) - Real Wage (t-1) | Real Wage (t) - Real Wage (t-1) |\n",
    "||||||\n",
    "| Productivity | 0.0360$^{***}$|0.111$^{***}$| | |\n",
    "| | (0.00246) | (0.0103| | |\n",
    "||||||\n",
    "| Year | | -0.111$^{***}$ | | |\n",
    "|      | | (0.0151) | | |\n",
    "||||||\n",
    "|Prod(t) - Prod(t-1) | ||0.0463$^{***}$ | 0.0133 |\n",
    "| | | |0.00985) | (0.0113)|\n",
    "||||||\n",
    "| Constant | 1.528$^{***}$ | 213.3$^{***}$ | -0.0217 | 0.0689$^{***}$|\n",
    "|          | (0.208) | (28.78) | (0.0185) | (0.0220)|\n",
    "||||||\n",
    "||||||\n",
    "| Observations | 41 | 41 | 40 | 25 |\n",
    "| R-squared | 0.846 | 0.936 | 0.368 | 0.057|\n",
    "| Years of Observations | 1947-87 | 1947-87 | 1947-87 | 1947-72|\n",
    "\n",
    "Each column presents a different regression model. The y variable is listed as thecolumn title and the x variables are the row titles. Standard errors are in parentheses."
   ]
  },
  {
   "cell_type": "markdown",
   "metadata": {},
   "source": [
    "Enter written answer for 3. here"
   ]
  },
  {
   "cell_type": "markdown",
   "metadata": {},
   "source": [
    "**4.** Fully interpret the result of regression (3) (Remember that this means SSS) (*hint: see Lecture notes*)"
   ]
  },
  {
   "cell_type": "markdown",
   "metadata": {},
   "source": [
    "Enter written answer for 4. here"
   ]
  },
  {
   "cell_type": "markdown",
   "metadata": {},
   "source": [
    "**5.** Compute a confidence interval for the effect of productivity on wage from the results of regression (4) estimated from the first 25 years."
   ]
  },
  {
   "cell_type": "code",
   "execution_count": null,
   "metadata": {},
   "outputs": [],
   "source": [
    "# add any code for 5. here"
   ]
  },
  {
   "cell_type": "markdown",
   "metadata": {},
   "source": [
    "Enter written answer for 5. here"
   ]
  },
  {
   "cell_type": "markdown",
   "metadata": {},
   "source": [
    "**6.** Can the results from question 5. be interpreted as suggesting that productivity has at most a small effect on wage? (Think of what you have controlled for in this regression). (*hint: see Lecture notes*)"
   ]
  },
  {
   "cell_type": "markdown",
   "metadata": {},
   "source": [
    "Enter written answer for 6. here"
   ]
  },
  {
   "cell_type": "markdown",
   "metadata": {},
   "source": [
    "**7.** Replicate the plot and regression output below using the Stata file `EARNS.dta` (*hint: see Lecture notes and Coding Bootcamps*)"
   ]
  },
  {
   "cell_type": "code",
   "execution_count": null,
   "metadata": {},
   "outputs": [],
   "source": [
    "# add any code for 7. here"
   ]
  }
 ],
 "metadata": {
  "kernelspec": {
   "display_name": "R",
   "language": "R",
   "name": "ir"
  },
  "language_info": {
   "codemirror_mode": "r",
   "file_extension": ".r",
   "mimetype": "text/x-r-source",
   "name": "R",
   "pygments_lexer": "r",
   "version": "4.1.1"
  }
 },
 "nbformat": 4,
 "nbformat_minor": 2
}
