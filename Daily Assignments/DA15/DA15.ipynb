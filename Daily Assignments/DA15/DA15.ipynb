{
 "cells": [
  {
   "cell_type": "markdown",
   "metadata": {},
   "source": [
    "# Daily Assignment 15 - EEP 118"
   ]
  },
  {
   "cell_type": "markdown",
   "metadata": {},
   "source": [
    "## SO2 and Y\n",
    "\n",
    "From a sample of 136 cities around the world, you estimated an equation relating air pollution (emission of\n",
    "sulfur dioxide (SO2) in microgram per cubic meter) to the local income per capita (Y) in dollars:\n",
    "\n",
    "$$\\widehat{SO2} = 0.5 + 4Y - 0.0005Y^2$$"
   ]
  },
  {
   "cell_type": "markdown",
   "metadata": {},
   "source": [
    "**a.** What is the marginal impact of an increase in income per capita on predicted air pollution?"
   ]
  },
  {
   "cell_type": "code",
   "execution_count": null,
   "metadata": {},
   "outputs": [],
   "source": [
    "# add any code for a. here"
   ]
  },
  {
   "cell_type": "markdown",
   "metadata": {},
   "source": [
    "Enter written answer for a. here"
   ]
  },
  {
   "cell_type": "markdown",
   "metadata": {},
   "source": [
    "**b.** In which range of income per capita is pollution increasing with income per capita? In which range of\n",
    "income per capita is pollution decreasing with income per capita? Give arguments that could explain this\n",
    "relationship between income per capita and pollution."
   ]
  },
  {
   "cell_type": "code",
   "execution_count": null,
   "metadata": {},
   "outputs": [],
   "source": [
    "# add any code for b. here"
   ]
  },
  {
   "cell_type": "markdown",
   "metadata": {},
   "source": [
    "Enter written answer for b. here"
   ]
  },
  {
   "cell_type": "markdown",
   "metadata": {},
   "source": [
    "## Problem C6.5 from Book"
   ]
  },
  {
   "cell_type": "code",
   "execution_count": null,
   "metadata": {},
   "outputs": [],
   "source": [
    "# Add any preamble code here"
   ]
  },
  {
   "cell_type": "markdown",
   "metadata": {},
   "source": [
    "Use the data in `hprice1.dta` for this exercise.\n",
    "\n",
    "**(i)** Estimate the model\n",
    "\n",
    "$$ \\log(price) = \\beta_0 + \\beta_1 \\log(lotsize) + \\beta_2\\log(sqrft) + \\beta_3bdrms + u$$\n",
    "\n",
    "and report the results in the usual OLS format."
   ]
  },
  {
   "cell_type": "code",
   "execution_count": 1,
   "metadata": {},
   "outputs": [],
   "source": [
    "# add any code for (i) here"
   ]
  },
  {
   "cell_type": "markdown",
   "metadata": {},
   "source": [
    "**(ii)** Find the predicted value of log(price) when lotsize = 20,000, sqrft = 2,500, and bdrms = 4. Find\n",
    "the predicted value of price at the same values of the explanatory variables."
   ]
  },
  {
   "cell_type": "code",
   "execution_count": null,
   "metadata": {},
   "outputs": [],
   "source": [
    "# add any code for (ii) here"
   ]
  },
  {
   "cell_type": "markdown",
   "metadata": {},
   "source": [
    "Add written answer for (ii) here."
   ]
  },
  {
   "cell_type": "markdown",
   "metadata": {},
   "source": [
    "**(iii)** For explaining variation in price, decide whether you prefer the model from part (i) or the model\n",
    "\n",
    "$$ price = \\beta_0 + \\beta_1 lotsize + \\beta_2sqrft + \\beta_3bdrms + u$$\n"
   ]
  },
  {
   "cell_type": "code",
   "execution_count": null,
   "metadata": {},
   "outputs": [],
   "source": [
    "# add any code for (iii) here"
   ]
  },
  {
   "cell_type": "markdown",
   "metadata": {},
   "source": [
    "Add written answer for (iii) here."
   ]
  },
  {
   "cell_type": "markdown",
   "metadata": {},
   "source": [
    "## Problem C6.8 from Book"
   ]
  },
  {
   "cell_type": "code",
   "execution_count": null,
   "metadata": {},
   "outputs": [],
   "source": [
    "# Add any preamble code here"
   ]
  },
  {
   "cell_type": "markdown",
   "metadata": {},
   "source": [
    "Use the data in `hprice1.dta` for this exercise.\n",
    "\n",
    "**(i)** Estimate the model\n",
    "\n",
    "$$ price = \\beta_0 + \\beta_1 lotsize + \\beta_2sqrft + \\beta_3bdrms + u$$\n",
    "\n",
    "and interpret your results, including the standard error of the regression. Obtain predicted price, when\n",
    "we plug in lotsize = 10,000, sqrft = 2,300 and bdrms = 4; round this price to the nearest dollar."
   ]
  },
  {
   "cell_type": "code",
   "execution_count": 1,
   "metadata": {},
   "outputs": [],
   "source": [
    "# add any code for (i) here"
   ]
  },
  {
   "cell_type": "markdown",
   "metadata": {},
   "source": [
    "Add written answer for (i) here."
   ]
  },
  {
   "cell_type": "markdown",
   "metadata": {},
   "source": [
    "**(ii)** Run a regression that allows you to put a 95% confidence interval around the predicted value in part\n",
    "(i). Note that your prediction will differ somewhat due to rounding error."
   ]
  },
  {
   "cell_type": "code",
   "execution_count": null,
   "metadata": {},
   "outputs": [],
   "source": [
    "# add any code for (ii) here"
   ]
  },
  {
   "cell_type": "markdown",
   "metadata": {},
   "source": [
    "Add written answer for (ii) here."
   ]
  },
  {
   "cell_type": "markdown",
   "metadata": {},
   "source": [
    "**(iii)** Let $price^0$ be the unknown future selling price of the house with characteristics used in parts (i) and\n",
    "(ii). Find a 95% confidence interval for $price^0$ and comment on the width of this confidence interval.\n"
   ]
  },
  {
   "cell_type": "code",
   "execution_count": null,
   "metadata": {},
   "outputs": [],
   "source": [
    "# add any code for (iii) here"
   ]
  },
  {
   "cell_type": "markdown",
   "metadata": {},
   "source": [
    "Add written answer for (iii) here."
   ]
  }
 ],
 "metadata": {
  "kernelspec": {
   "display_name": "R",
   "language": "R",
   "name": "ir"
  },
  "language_info": {
   "codemirror_mode": "r",
   "file_extension": ".r",
   "mimetype": "text/x-r-source",
   "name": "R",
   "pygments_lexer": "r",
   "version": "4.1.1"
  }
 },
 "nbformat": 4,
 "nbformat_minor": 2
}
