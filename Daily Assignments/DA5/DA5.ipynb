{
 "cells": [
  {
   "cell_type": "markdown",
   "metadata": {},
   "source": [
    "# Daily Assignment 5 - EEP 118 Spring 2022\n"
   ]
  },
  {
   "cell_type": "code",
   "execution_count": null,
   "metadata": {},
   "outputs": [],
   "source": [
    "# Loading packages\n",
    "library(readxl) # for loading excel file\n",
    "library(tidyverse) # for dplyr/ggplot/more"
   ]
  },
  {
   "cell_type": "markdown",
   "metadata": {},
   "source": [
    "First, read in the data and look at the top first rows/column names"
   ]
  },
  {
   "cell_type": "code",
   "execution_count": null,
   "metadata": {},
   "outputs": [],
   "source": [
    "my_data <- read_excel(\"opec.xlsx\")\n",
    "head(my_data)"
   ]
  },
  {
   "cell_type": "markdown",
   "metadata": {},
   "source": [
    "Now obtain summary statistics using `describe()` and create a scatterplot"
   ]
  },
  {
   "cell_type": "code",
   "execution_count": null,
   "metadata": {},
   "outputs": [],
   "source": [
    "summary(my_data)\n",
    "\n",
    "ggplot(data = my_data) + \n",
    "    geom_point(aes(x=Capacity, y=margCost, color = \"data\")) +\n",
    "labs(x = \"Production Capacity  (thousand barrels/day)\",\n",
    "     y = \"Marginal Costs (Dollars)\",\n",
    "     title = \"Marginal Costs and Capacity  (thousand barrels/day)\")\n"
   ]
  },
  {
   "cell_type": "markdown",
   "metadata": {},
   "source": [
    "Next, run regression of marginal cost on capacity and plot fitted values against the actual data"
   ]
  },
  {
   "cell_type": "code",
   "execution_count": null,
   "metadata": {},
   "outputs": [],
   "source": [
    "reg1<-lm(margCost ~ Capacity,my_data)\n",
    "summary(reg1)\n",
    "\n",
    "my_data <- mutate(my_data, margCosts_hat = reg1$fitted.values)\n",
    "\n",
    "ggplot(data = my_data) + geom_point(aes(x=Capacity, y=margCost, color = \"data\")) +\n",
    "  geom_point(aes(x=Capacity, y=margCosts_hat, color = \"fitted\")) + \n",
    "labs(x = \"Production Capacity  (thousand barrels/day)\",\n",
    "     y = \"Marginal Costs (Dollars)\",\n",
    "     title = \"Marginal Costs (Red) Predicted Marginal Costs (Blue) and Capacity\")"
   ]
  }
 ],
 "metadata": {
  "kernelspec": {
   "display_name": "R",
   "language": "R",
   "name": "ir"
  },
  "language_info": {
   "codemirror_mode": "r",
   "file_extension": ".r",
   "mimetype": "text/x-r-source",
   "name": "R",
   "pygments_lexer": "r",
   "version": "4.1.1"
  }
 },
 "nbformat": 4,
 "nbformat_minor": 2
}
