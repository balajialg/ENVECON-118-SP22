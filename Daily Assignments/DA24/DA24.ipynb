{
 "cells": [
  {
   "cell_type": "markdown",
   "metadata": {},
   "source": [
    "# Daily Assignment 24 - EEP 118"
   ]
  },
  {
   "cell_type": "code",
   "execution_count": null,
   "metadata": {},
   "outputs": [],
   "source": [
    "# Add Preamble code here (load packages and dataset)"
   ]
  },
  {
   "cell_type": "markdown",
   "metadata": {},
   "source": [
    "## Demand for Ecologically-Friendly Apple\n",
    "\n",
    "This data set `APPLE.dta` in Wooldridge is an interesting example of experimental data (it can suggest ideas for future projects). They are telephone survey data attempting to elicit the demand for a (fictional) ecologically-friendly apple. Each family was randomly presented with a set of prices for regular apples and eco-labeled apples. They were asked how many pounds of each kind of apple they would buy. The data set includes the following variables:\n",
    "\n",
    "| Variable Name | Label |\n",
    "| ------------- | ----- |\n",
    "| educ | Years of schooling of respondent|\n",
    "| regprc | price of regular apples (\\$/lb)|\n",
    "| ecoprc | price of eco-labeled apples (\\$/lb)|\n",
    "|reglbs | quantity regular apples (lbs)|\n",
    "|ecolbs | quantity eco-labeled apples (lbs)|\n",
    "| ecobuy | =1 if *ecolbs* > 0 |\n",
    "|hhsize | household size|\n",
    "|male | =1 if respondent is male|\n",
    "| faminc | family income (thousands of \\$)|\n"
   ]
  },
  {
   "cell_type": "markdown",
   "metadata": {},
   "source": [
    "Estimate the following two models:\n",
    "   \n",
    "I. A linear regression of *ecolbs* on a constant and *faminc*, *regprc*, *ecoproc*, *hhsize*, *male*, and *educ*\n",
    "\n",
    "II. A logit regression of *ecolbs* on a constant and *faminc*, *regprc*, *ecoproc*, *hhsize*, *male*, and *educ*\n",
    "\n",
    "and report robust standard errors"
   ]
  },
  {
   "cell_type": "markdown",
   "metadata": {},
   "source": [
    "**1.** Interpret the parameters on the *faminc*, *regprc*, and *ecoprc* variables from the results of the estimation of model (I)."
   ]
  },
  {
   "cell_type": "code",
   "execution_count": null,
   "metadata": {},
   "outputs": [],
   "source": [
    "# add any code for 1. here"
   ]
  },
  {
   "cell_type": "markdown",
   "metadata": {},
   "source": [
    "Enter written answer for 1. here"
   ]
  },
  {
   "cell_type": "markdown",
   "metadata": {},
   "source": [
    "**2.** Interpret the parameter for household size from the results of the estimation of model (II) [hint: you\n",
    "need to compute the marginal effects]."
   ]
  },
  {
   "cell_type": "code",
   "execution_count": null,
   "metadata": {},
   "outputs": [],
   "source": [
    "# add any code for 2. here"
   ]
  },
  {
   "cell_type": "markdown",
   "metadata": {},
   "source": [
    "Enter written answer for 2. here"
   ]
  },
  {
   "cell_type": "markdown",
   "metadata": {},
   "source": [
    "**3.** For model (II), are *faminc* and *hhsize* jointly significant at the 5% level? Report results of all estimations, and show all steps in the hypothesis test."
   ]
  },
  {
   "cell_type": "code",
   "execution_count": null,
   "metadata": {},
   "outputs": [],
   "source": [
    "# add any code for 3. here"
   ]
  },
  {
   "cell_type": "markdown",
   "metadata": {},
   "source": [
    "Enter written answer for 3. here"
   ]
  }
 ],
 "metadata": {
  "kernelspec": {
   "display_name": "R",
   "language": "R",
   "name": "ir"
  },
  "language_info": {
   "codemirror_mode": "r",
   "file_extension": ".r",
   "mimetype": "text/x-r-source",
   "name": "R",
   "pygments_lexer": "r",
   "version": "4.1.1"
  }
 },
 "nbformat": 4,
 "nbformat_minor": 2
}
