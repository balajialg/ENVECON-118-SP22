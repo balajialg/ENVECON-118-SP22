{
 "cells": [
  {
   "cell_type": "markdown",
   "metadata": {},
   "source": [
    "# Daily Assignment 22 - EEP 118"
   ]
  },
  {
   "cell_type": "code",
   "execution_count": null,
   "metadata": {},
   "outputs": [],
   "source": [
    "# Add Preamble code here (load packages and dataset)"
   ]
  },
  {
   "cell_type": "markdown",
   "metadata": {},
   "source": [
    "## Schooling Decision and Impact of the PROGRESA Program in Mexico\n",
    "\n",
    "While primary school is almost universal in Mexico, secondary education in rural areas is trailing behind the national average, especially among poor households. In order to increase school enrollment among the youth in poor rural families, in 1998 the Mexican government introduced the PROGRESA program. The program gives cash transfers to mothers in poor households if their children attend school regularly and receive periodical medical checkups. We will use a large data set collected by this program to better understand the determinants of school enrollment and evaluate the effects of the program. As mentioned in class, for a sample of 507 villages, the program was randomly assigned to some of them.\n",
    "\n",
    "The data set `progresa98.dta` that we have extracted for you consist of a subset of the children 12-13 years old that have just completed primary school. (You will find a result that differ from what we saw in class because this subsample only include children that are 12-13 years old)"
   ]
  },
  {
   "cell_type": "markdown",
   "metadata": {},
   "source": [
    "**1.** Estimate the impact of the program on school attendance."
   ]
  },
  {
   "cell_type": "code",
   "execution_count": null,
   "metadata": {},
   "outputs": [],
   "source": [
    "# add any code for 1. here"
   ]
  },
  {
   "cell_type": "markdown",
   "metadata": {},
   "source": [
    "Enter written answer for 1. here"
   ]
  },
  {
   "cell_type": "markdown",
   "metadata": {},
   "source": [
    "**2.** What are the conditions for the validity of the method to measure the causal impact of the program? Proceed with the appropriate tests that support the validity of the randomization."
   ]
  },
  {
   "cell_type": "code",
   "execution_count": null,
   "metadata": {},
   "outputs": [],
   "source": [
    "# add any code for 2. here"
   ]
  },
  {
   "cell_type": "markdown",
   "metadata": {},
   "source": [
    "Enter written answer for 2. here"
   ]
  },
  {
   "cell_type": "markdown",
   "metadata": {},
   "source": [
    "**3.** Add variables that may influence the decision to enroll in school in the regression. Do they actually explain enrollment? Do they affect the estimated coefficient of the program? Is that what you expected, and why?"
   ]
  },
  {
   "cell_type": "code",
   "execution_count": null,
   "metadata": {},
   "outputs": [],
   "source": [
    "# add any code for 3. here"
   ]
  },
  {
   "cell_type": "markdown",
   "metadata": {},
   "source": [
    "Enter written answer for 3. here"
   ]
  },
  {
   "cell_type": "markdown",
   "metadata": {},
   "source": [
    "**4.** Now, write a simple equation (without un-necessary variables) that allow you to test whether the impact of the program is equal for boys and girls. Report the result and comment."
   ]
  },
  {
   "cell_type": "code",
   "execution_count": null,
   "metadata": {},
   "outputs": [],
   "source": [
    "# add any code for 4. here"
   ]
  },
  {
   "cell_type": "markdown",
   "metadata": {},
   "source": [
    "Enter written answer for 4. here"
   ]
  }
 ],
 "metadata": {
  "kernelspec": {
   "display_name": "R",
   "language": "R",
   "name": "ir"
  },
  "language_info": {
   "codemirror_mode": "r",
   "file_extension": ".r",
   "mimetype": "text/x-r-source",
   "name": "R",
   "pygments_lexer": "r",
   "version": "4.1.1"
  }
 },
 "nbformat": 4,
 "nbformat_minor": 2
}
