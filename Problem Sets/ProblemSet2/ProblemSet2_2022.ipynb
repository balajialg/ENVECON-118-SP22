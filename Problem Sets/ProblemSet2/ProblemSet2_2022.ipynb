{
 "cells": [
  {
   "cell_type": "markdown",
   "metadata": {},
   "source": [
    "# EEP/IAS 118 - Introductory Applied Econometrics\n",
    "## Problem Set 2, Spring 2022, Villas-Boas\n",
    "#### <span style=\"text-decoration: underline\"> See due date on time on Gradescope  </span> \n",
    "\n",
    "\n",
    "Submit materials (pdf of your Jupyter notebook with all code cells run) as one combined pdf on [Gradescope](https://www.gradescope.com/courses/353120)."
   ]
  },
  {
   "cell_type": "markdown",
   "metadata": {},
   "source": [
    "## Exercise 1: Relationship between Airline Fares and Route Observable Variables"
   ]
  },
  {
   "cell_type": "markdown",
   "metadata": {},
   "source": [
    "### Guidelines\n",
    "\n",
    "This exercise should be completed using R. Remember, when you want an output to show in the notebook, you need to *explicitly* call the object in your R code. For example, if you want to show the mean oairline fare, you can't just type `MeanFare <- mean(fare)`, because that will just save the output to `MeanFare`. Instead, you need to then type `MeanFare` on its own so it displays the output. **Answers that do not display the desired output will be graded as incorrect.**\n",
    "\n",
    "\n",
    "To write comments in your script (text that will appear but will not be read as commands), type a \\# at the beginning of the line. Use these as notes to keep track of which question you are trying to answer, the purpose of each command, etc.\n",
    " "
   ]
  },
  {
   "cell_type": "code",
   "execution_count": null,
   "metadata": {},
   "outputs": [],
   "source": [
    "# a commented out line of code - nothing happens if you run this cell"
   ]
  },
  {
   "cell_type": "markdown",
   "metadata": {},
   "source": [
    "To get started:\n",
    "\n",
    "This time you are opening a STATA-formatted \".dta\" file, so you will use the `read_dta()` command instead of the import command that was applied to a “.csv” spreadsheet in the first problem set. You will need to load the `haven` package to do this. Your command should look like this: \n",
    "\n",
    "`DataName <- read_dta(\"file_name\")`\n",
    "\n",
    "Exercises require both R work and written answers."
   ]
  },
  {
   "cell_type": "markdown",
   "metadata": {},
   "source": [
    "### R Tips\t\n",
    "* See the Coding Bootcamp Parts 1 and 2 for some basic operations (i.e. counting observations, scatterplots, generating variables) See also all the Lecture R command files to replicate lectures where we did most of what you are asked to do here : e.g., Lecture5.R, Lecture6.R, and Lecture7.R.\n",
    "\n",
    "\n",
    "* The command `table()` lists all values a variable takes in the sample and the number of times it takes each value. \n",
    "\n",
    "\n",
    "* To summarize data for a specified subset of the observations, you can use `filter()` to subset the data, and then either `summary()` for simple summary statistics or `summarise()` in `tidyverse` to generate more detailed summary statistics."
   ]
  },
  {
   "cell_type": "markdown",
   "metadata": {},
   "source": [
    "### Data Description\n",
    "The data for this exercise come from the Domestic Airline Fares Consumer Report by the U.S. Department of Transportation for the year of 2000. In this problem set we delve into that data to provide insights into the airline fares and then relate the variation in airline fares in the sample to  trip characteristics and also the possibility of large carriers in the trip having a large share of the market and thus having some sort of pricing power. The pset2.dta file includes the following variables:\n",
    "\n",
    "The **dataPset2.dta** file includes the following variables:\n",
    "\n",
    "| Variable Name | Description                             |\n",
    "|---------------|-----------------------------------------|\n",
    "| origin      | Flight's origin                   |\n",
    "| originstate          | Origin state |\n",
    "| destin      | Flight's destination    |\n",
    "| destinstate      | Destination state       |\n",
    "| id             | route identifier      |\n",
    "| dist        | distance, in miles |\n",
    "| passen           | avg. passengers per day |\n",
    "| fare          | avg. one-way fare (\\$) |\n",
    "| bmktshr       | market share (fraction of route market) held by biggest carrier |\n",
    "\n"
   ]
  },
  {
   "cell_type": "markdown",
   "metadata": {},
   "source": [
    "### Preamble\n",
    "When writing R code, it's a good habit to start your notebooks or R scripts with a preamble, a section where you load all necessary packages, set paths or change the working directory, or declare other options.\n",
    "\n",
    "Use the below code cell to load in packages you will use throughout the problem set (at least `haven` and `tidyverse` this week). \n",
    "\n",
    "*Note:* **never** try to install packages on Datahub. All packages that you need are already installed and can be loaded immediately using the `library()` function. Attempting to install packages will create conflicts with the package versions on the server and potentially corrupt your notebook."
   ]
  },
  {
   "cell_type": "code",
   "execution_count": null,
   "metadata": {},
   "outputs": [],
   "source": [
    "# insert preamble code here"
   ]
  },
  {
   "cell_type": "markdown",
   "metadata": {},
   "source": [
    "### Question 1\n",
    "First we would like you to become familiar with your data:"
   ]
  },
  {
   "cell_type": "markdown",
   "metadata": {},
   "source": [
    "(a) Please detail the following: How many routes are in the data set? How many routes have distance larger than 1000 miles?"
   ]
  },
  {
   "cell_type": "code",
   "execution_count": null,
   "metadata": {},
   "outputs": [],
   "source": [
    "# insert code here"
   ]
  },
  {
   "cell_type": "markdown",
   "metadata": {},
   "source": [
    "➡️ Type your written answer for Question 1a here (replacing this text)."
   ]
  },
  {
   "cell_type": "markdown",
   "metadata": {},
   "source": [
    "(b) What is the average fare in the data set?   "
   ]
  },
  {
   "cell_type": "code",
   "execution_count": null,
   "metadata": {},
   "outputs": [],
   "source": [
    "# insert code here"
   ]
  },
  {
   "cell_type": "markdown",
   "metadata": {},
   "source": [
    "➡️ Type your written answer for Question 1b here (replacing this text)."
   ]
  },
  {
   "cell_type": "markdown",
   "metadata": {},
   "source": [
    "(c) What is the range for the variable **dist**, route distance, in the data? "
   ]
  },
  {
   "cell_type": "code",
   "execution_count": null,
   "metadata": {},
   "outputs": [],
   "source": [
    "# insert code here"
   ]
  },
  {
   "cell_type": "markdown",
   "metadata": {},
   "source": [
    "➡️ Type your written answer for Question 1c here (replacing this text)."
   ]
  },
  {
   "cell_type": "markdown",
   "metadata": {},
   "source": [
    "(d) Construct a variable **PricePerMile** equal to the fare divided by distance of the route. You will need to create this new variable in R. "
   ]
  },
  {
   "cell_type": "code",
   "execution_count": null,
   "metadata": {},
   "outputs": [],
   "source": [
    "# insert code here"
   ]
  },
  {
   "cell_type": "markdown",
   "metadata": {},
   "source": [
    "(e) Plot a histogram of this constructed variable. What is the range of airline price per mile flown in the US in 2000?"
   ]
  },
  {
   "cell_type": "code",
   "execution_count": null,
   "metadata": {},
   "outputs": [],
   "source": [
    "# insert code here"
   ]
  },
  {
   "cell_type": "markdown",
   "metadata": {},
   "source": [
    "➡️ Type your written answer Question 1e here (replacing this text)."
   ]
  },
  {
   "cell_type": "markdown",
   "metadata": {},
   "source": [
    "(f) What is the mean of **PricePerMile**? What is its median?"
   ]
  },
  {
   "cell_type": "code",
   "execution_count": null,
   "metadata": {},
   "outputs": [],
   "source": [
    "# insert code here"
   ]
  },
  {
   "cell_type": "markdown",
   "metadata": {},
   "source": [
    "➡️ Type your written answer for Question 1f here (replacing this text)."
   ]
  },
  {
   "cell_type": "markdown",
   "metadata": {},
   "source": [
    "(g) Compute the mean of price per mile flown separately for routes ending in California and those ending in all other states.\n",
    "\n",
    "*(hint: first create an indicator variable as an additional column in the dataset that equals one for routes that end in CA and is zero otherwise using*\n",
    "\n",
    "`my_data <- mutate(my_data,\n",
    "    destin_CA = ifelse(destinstate == \"CA\", 1,0)\n",
    "    )`\n",
    "    \n",
    "*Then, use `group_by()` and `summarise()` in the `tidyverse` package. See Coding Bootcamp Part 3 for more on grouped summary statistics)*"
   ]
  },
  {
   "cell_type": "code",
   "execution_count": null,
   "metadata": {},
   "outputs": [],
   "source": [
    "# insert code here"
   ]
  },
  {
   "cell_type": "markdown",
   "metadata": {},
   "source": [
    "(h) Do routes that end in CA have lower average price per mile than routes that end in other states?"
   ]
  },
  {
   "cell_type": "markdown",
   "metadata": {},
   "source": [
    "➡️ Type your written answer for Question 1h here (replacing this text)."
   ]
  },
  {
   "cell_type": "markdown",
   "metadata": {},
   "source": [
    "### Question 2"
   ]
  },
  {
   "cell_type": "markdown",
   "metadata": {},
   "source": [
    "Consider the following model where $x_i =$ average number of passengers per day on route $i$\n",
    "\n",
    "$$Fare_i= \\beta_1 + \\beta_2 x_i + u_i~~~~~~~~ i = \\text{routes 1,2,...N in the data} ~~~~~~~~~~~~~~~~~~~~(eq.1)$$"
   ]
  },
  {
   "cell_type": "markdown",
   "metadata": {},
   "source": [
    "(a) Estimate the model in R with the `lm()` command. Interpret your $\\hat \\beta_1$ and $\\hat \\beta_2$ coefficients, remembering the triplet S(ign), S(ignificance), S(ize), though you do not need to comment on significance in this problem set. **Make sure your uploaded pdf includes the R output.**\n"
   ]
  },
  {
   "cell_type": "code",
   "execution_count": null,
   "metadata": {},
   "outputs": [],
   "source": [
    "# insert code here"
   ]
  },
  {
   "cell_type": "markdown",
   "metadata": {},
   "source": [
    "➡️ Type your answer to Question 2a here (replacing this text)."
   ]
  },
  {
   "cell_type": "markdown",
   "metadata": {},
   "source": [
    "(b) How well does the average  number of passengers per day  predict the route fare?\n"
   ]
  },
  {
   "cell_type": "markdown",
   "metadata": {},
   "source": [
    "➡️ Type your answer to Question 2b here (replacing this text)."
   ]
  },
  {
   "cell_type": "markdown",
   "metadata": {},
   "source": [
    "(c) What is the predicted fare for a route with an average of daily passengers of 5000? "
   ]
  },
  {
   "cell_type": "code",
   "execution_count": null,
   "metadata": {},
   "outputs": [],
   "source": [
    "# insert code here"
   ]
  },
  {
   "cell_type": "markdown",
   "metadata": {},
   "source": [
    "➡️ Type your answer to Question 2c here (replacing this text)."
   ]
  },
  {
   "cell_type": "markdown",
   "metadata": {},
   "source": [
    "### Question 3"
   ]
  },
  {
   "cell_type": "markdown",
   "metadata": {},
   "source": [
    "Consider the following model where $x$ is once again the number of daily passengers per route:\n",
    "\n",
    "$$ log(Fare)_i = \\beta_3 + \\beta_4 log(x_i) + \\nu_i ~~~~~~~~ i = \\text{routes 1,2,...N in the data} ~~~~~~~~~~~~~~~~~~~~(eq.2)$$\n",
    "\n",
    "you need to generate the logarithm of the variables of interest for this question's model, namely the log of   average one-way fare and log of daily passengers. Use the `log()` function."
   ]
  },
  {
   "cell_type": "markdown",
   "metadata": {},
   "source": [
    "(a) Estimate the model in R with the `lm()` command. Interpret your $\\hat\\beta_4$ coefficent, remembering the triplet S(ign), S(ignificance), S(ize), though you don't need to comment you need to generate the logarithm of the variables of interest for this question's model."
   ]
  },
  {
   "cell_type": "code",
   "execution_count": null,
   "metadata": {},
   "outputs": [],
   "source": [
    "# insert code here"
   ]
  },
  {
   "cell_type": "markdown",
   "metadata": {},
   "source": [
    "➡️ Type your answer to Question 3a here (replacing this text)."
   ]
  },
  {
   "cell_type": "markdown",
   "metadata": {},
   "source": [
    "(b) Using the results from estimating (eq.2), how would you expect the route fare to change if the number of passengers increases by 1\\%?\n"
   ]
  },
  {
   "cell_type": "code",
   "execution_count": null,
   "metadata": {},
   "outputs": [],
   "source": [
    "# insert code here"
   ]
  },
  {
   "cell_type": "markdown",
   "metadata": {},
   "source": [
    "➡️ Type your answer to Question 3b here (replacing this text)."
   ]
  },
  {
   "cell_type": "markdown",
   "metadata": {},
   "source": [
    "(c) How about if the number of passengers increases by 25\\%?\n"
   ]
  },
  {
   "cell_type": "code",
   "execution_count": null,
   "metadata": {},
   "outputs": [],
   "source": [
    "# insert code here"
   ]
  },
  {
   "cell_type": "markdown",
   "metadata": {},
   "source": [
    "➡️ Type your answer to Question 3c here (replacing this text)."
   ]
  },
  {
   "cell_type": "markdown",
   "metadata": {},
   "source": [
    "### Question 4\n",
    "We will now explore the role of route characteristics in explaining the route fare where **x** is the average number of daily passengers in the route and **dist** is the route's distance\n",
    "\n",
    "$$Fare_i= \\beta_1 + \\beta_2 x_i + \\beta_3 dist_i + \\gamma_i~~~~~~~~ i = \\text{routes 1,2,...N in the data} ~~~~~~~~~~~~~~~~~~~~(eq.3)$$"
   ]
  },
  {
   "cell_type": "markdown",
   "metadata": {},
   "source": [
    "(a) How did your estimate $\\hat \\beta_2$ for x (that is, passengers) change between equation (eq.1) and equation (eq.3)? \n"
   ]
  },
  {
   "cell_type": "code",
   "execution_count": null,
   "metadata": {},
   "outputs": [],
   "source": [
    "# insert code here"
   ]
  },
  {
   "cell_type": "markdown",
   "metadata": {},
   "source": [
    "➡️ Type your answer to Question 4a here (replacing this text)"
   ]
  },
  {
   "cell_type": "markdown",
   "metadata": {},
   "source": [
    "(b) Without performing any calculations, what information does this give you about the correlation between the daily number of passengers and route distance? (Explain your reasoning in no more than 4 sentences. *Hint: OVB*)"
   ]
  },
  {
   "cell_type": "markdown",
   "metadata": {},
   "source": [
    "➡️ Type your answer to Question 4b here (replacing this text)"
   ]
  },
  {
   "cell_type": "markdown",
   "metadata": {},
   "source": [
    "(c) Compute the correlation between the number of passengers and the biggest carrier market share. If you include the variable largest carrier market share in the model in equation (eq.3) and that slope coefficient estimate is 61.4, what do you think will happen to the estimated coefficient on the number of passengers when compared to the estimate you got in equation (eq. 3)? Explain your reasoning using OVB briefly here again. "
   ]
  },
  {
   "cell_type": "code",
   "execution_count": null,
   "metadata": {},
   "outputs": [],
   "source": [
    "# insert code here"
   ]
  },
  {
   "cell_type": "markdown",
   "metadata": {},
   "source": [
    "➡️ Type your answer to Question 4c here (replacing this text)"
   ]
  },
  {
   "cell_type": "markdown",
   "metadata": {},
   "source": [
    "d) Predict the expected fare for a route with 6000 daily passengers and a distance of 1200 miles using your estimates from equation (eq.3). "
   ]
  },
  {
   "cell_type": "code",
   "execution_count": null,
   "metadata": {},
   "outputs": [],
   "source": [
    "# insert code here"
   ]
  },
  {
   "cell_type": "markdown",
   "metadata": {},
   "source": [
    "➡️ Type your answer to Question 4d here (replacing this text)"
   ]
  },
  {
   "cell_type": "markdown",
   "metadata": {},
   "source": [
    "## Exercise 2: Determinants of Consumer Gasoline Prices"
   ]
  },
  {
   "cell_type": "markdown",
   "metadata": {},
   "source": [
    "Policy makers are interested in understanding important determinants of gasoline prices at the pump in the US cities and run the following model:\n",
    "\n",
    "$$price_j=\\beta_1 + \\beta_2  WholesalePrice_j +\\beta_3  EnvRegulationn_j + u_j \\ \\ \\ \\ \\ \\ \\ \\ \\ ~~~~~~~~~~ (eq.4) $$\n",
    "\n",
    "where $price_j$ corresponds to gasoline retail average price in a US city *j* and is assumed to be related to the  Wholesale Price of gasoline in city j (*WholesalePrice*), and also related to whether city *j* has environmental content regulation for gasoline or not (indicator *EnvRegulation*=1, or =0) . Finally,  $u_j$ is the disturbance term related to the retail price of gasoline in city *j*.  "
   ]
  },
  {
   "cell_type": "markdown",
   "metadata": {},
   "source": [
    "(a) What do you expect the sign of $\\hat\\beta_3$ to be in equation (eq.4)? Why?"
   ]
  },
  {
   "cell_type": "markdown",
   "metadata": {},
   "source": [
    "➡️ Type your answer to Exercise 2a here (replacing this text)"
   ]
  },
  {
   "cell_type": "markdown",
   "metadata": {},
   "source": [
    "(b) What would probably happen to $hat\\beta_2$ if you omit *EnvRegulation* from the estimation, assuming that producing cleaner gasoline is more costly? Explain (very briefly) why."
   ]
  },
  {
   "cell_type": "markdown",
   "metadata": {},
   "source": [
    "➡️ Type your answer to Exercise 2b here (replacing this text)"
   ]
  }
 ],
 "metadata": {
  "history": [
   {
    "code": "## Exercise 2: Vaccination Rates in 2021",
    "id": "4488a61daf25470e9817712f6e315186",
    "idx": 27,
    "time": "2021-02-01T07:40:46.621Z",
    "type": "execution"
   },
   {
    "code": "(b) List three other factors that could influence whether the vaccination rate increases (or decreases) that would be in the $u_i$. ",
    "id": "1dab6b9134c84b33864397c3f22431e1",
    "idx": 30,
    "time": "2021-02-01T07:42:50.602Z",
    "type": "execution"
   },
   {
    "code": "(b) List three other factors that could influence whether the vaccination rate increases (or decreases) that would be in the $u_i$. ",
    "id": "1dab6b9134c84b33864397c3f22431e1",
    "idx": 30,
    "time": "2021-02-01T07:42:51.568Z",
    "type": "execution"
   },
   {
    "code": "# insert code here",
    "id": "3d928bde07494cc6a476ae4a14699c6a",
    "idx": 26,
    "time": "2021-02-01T07:49:05.168Z",
    "type": "execution"
   },
   {
    "code": " Type your answer to _Exercise 1.4.a. here (replacing this text)",
    "id": "78ec47020d8d4959a408ef70471e35a8",
    "idx": 27,
    "time": "2021-02-01T07:49:07.160Z",
    "type": "execution"
   },
   {
    "code": "Consider  following model:\n\n$$ log(ncars) = \\beta_2 + \\beta_3 log(grossINC) + v $$\nyou need to generate the logarithm of the variables of interest for this question's model. Use log(), namely the log of number of cars and log of gross income.",
    "id": "927615d2f3464e28af3dfa434001621b",
    "idx": 23,
    "time": "2021-02-01T07:50:48.925Z",
    "type": "execution"
   },
   {
    "code": "(b) How well does total gross INCOME predict per capita number of cars?\n",
    "id": "cb25d5394be741abaebabd81f94940ef",
    "idx": 24,
    "time": "2021-02-01T07:54:48.520Z",
    "type": "execution"
   },
   {
    "code": "(b) How well does total gross INCOME predict per capita number of cars?\n",
    "id": "cb25d5394be741abaebabd81f94940ef",
    "idx": 24,
    "time": "2021-02-01T07:54:50.136Z",
    "type": "execution"
   },
   {
    "code": " Type your answer to _Exercise 1.2.a. here (replacing this text)",
    "id": "12a4fe7666af4dd9bd330f639fe4140a",
    "idx": 24,
    "time": "2021-02-01T07:55:41.688Z",
    "type": "execution"
   },
   {
    "code": " Type your answer to _Exercise 1.3.a. here (replacing this text)",
    "id": "fb20268ae160410ea17248fd12fe3f61",
    "idx": 27,
    "time": "2021-02-01T07:55:51.120Z",
    "type": "execution"
   },
   {
    "code": " Type your answer to _Exercise 1.2.c. here (replacing this text)",
    "id": "8af8b0b0850c4b4a852d80b4220a6058",
    "idx": 30,
    "time": "2021-02-01T07:56:10.176Z",
    "type": "execution"
   }
  ],
  "kernelspec": {
   "display_name": "R",
   "language": "R",
   "name": "ir"
  },
  "language_info": {
   "codemirror_mode": "r",
   "file_extension": ".r",
   "mimetype": "text/x-r-source",
   "name": "R",
   "pygments_lexer": "r",
   "version": "4.1.1"
  }
 },
 "nbformat": 4,
 "nbformat_minor": 4
}
