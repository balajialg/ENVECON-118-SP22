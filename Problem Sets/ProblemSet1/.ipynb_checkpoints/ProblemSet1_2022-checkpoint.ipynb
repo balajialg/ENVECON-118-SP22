{
 "cells": [
  {
   "cell_type": "markdown",
   "metadata": {},
   "source": [
    "# EEP/IAS 118 - Introductory Applied Econometrics\n",
    "## Problem Set 1, Spring 2022, Villas-Boas\n",
    "#### <span style=\"text-decoration: underline\">Due in Gradescope – see deadline due time  in Gradescope – Feb 3, 2022</span> \n",
    "\n",
    "\n",
    "Submit materials (all handwritten/typed answers, Excel workbooks, and R reports) as one combined pdf on [Gradescope](https://www.gradescope.com/courses/353120). All students currently on the EEP118 bCourses have been added using the bCourses email. If you do not have access to the Gradescope course, please reach out to the GSI's.\n",
    "\n",
    "For help combining pdf's, see the \"Tips for Saving/Combining PDFs\" announcement on bCourses."
   ]
  },
  {
   "cell_type": "markdown",
   "metadata": {},
   "source": [
    "## Exercise 1 (Excel)\n",
    "**Relationship between Housing Prices and Violent Crime in 10 US Cities.** \n",
    "\n",
    "We will use September 2021 data from Zumper on one-bedroom apartment prices and 2019 data from the FBI on crime for 10 US cities. The original data has 100 cities. In this first problem set we will only use a subset of the cities.\n",
    "This exercise is to be completed using Excel. We will establish a simple linear relationship between *housing prices and crime* in a subset of cities.\n",
    "\n",
    "*Note: in economics, log always refers to the natural log, ln().*"
   ]
  },
  {
   "cell_type": "markdown",
   "metadata": {},
   "source": [
    "\n",
    "<center><b> Table 1: Log of Housing Price and Log of Violent Crimes per 1,000 People, Sample 1 </b></center>\n",
    "\n",
    "|CityName\t|\tlog of Housing Price\t|\tlog of Violent Crimes per 1,000 People\t|\n",
    "|-----------|---------------|---------------|\n",
    "|sample 1\t|\tlog of Y\t|\tlog of X\t|\n",
    "|Anchorage\t|6.99393298\t|1.27564209\n",
    "|Chandler\t|7.27931884|\t-0.5225609\n",
    "|Gilbert\t|7.41457288\t|-1.4064971\n",
    "|Glendale\t|7.02997291|\t-0.1473406\n",
    "|Mesa\t|7.05617528|\t0.66936665\n",
    "|Phoenix\t|7.138867\t|2.46835374\n",
    "|Scottsdale\t|7.52294092\t|-0.8794768\n",
    "|Tucson\t|6.73340189\t|1.32840038\n",
    "|Anaheim\t|7.50659178\t|0.11332869\n",
    "|Bakersfield\t|6.85646198|\t0.5687171\n"
   ]
  },
  {
   "cell_type": "markdown",
   "metadata": {},
   "source": [
    "(a) Use Excel to create a scatter plot of these observations. Don't forget to (1) label the axes and their units, and (2) title your graph. **You should use the tables provided here for these calculations, not the actual observations from the .csv data file.**"
   ]
  },
  {
   "cell_type": "markdown",
   "metadata": {},
   "source": [
    "(b) This question has **two parts**. \n",
    "\n",
    "First: Estimate the linear relationship between the log of Housing Price (log(Y)) and the log of violent crimes per 1,000 people (log(X)) by OLS, showing all intermediate\n",
    "calculations as we saw in the lecture 3 slides (use Excel to create the table and show all the steps).\n",
    "\n",
    "Second: interpret the value of the estimated parameters $\\beta_0$ and $\\beta_1$.\n",
    "\n",
    "$$ \\widehat{log (Y_i)} = \\hat{\\beta_0} + \\hat{\\beta_1} log(X_i) \\ \\ \\ \\ \\ \\ \\text{i = \\{first 10 cities\\}}$$"
   ]
  },
  {
   "cell_type": "markdown",
   "metadata": {},
   "source": [
    "➡️ Type your answer to _Exercise 1 (b) Second Part_ here (replacing this text)"
   ]
  },
  {
   "cell_type": "markdown",
   "metadata": {},
   "source": [
    "(c) In your table, compute the fitted value and the residual for each observation, and verify that the residuals (approximately) sum to 0."
   ]
  },
  {
   "cell_type": "markdown",
   "metadata": {},
   "source": [
    "(d) According to the estimated relation, what is the predicted $\\hat{Y}$ (**level**, not log) for a city with a log crime of -2? (Pay attention to units)"
   ]
  },
  {
   "cell_type": "markdown",
   "metadata": {},
   "source": [
    "➡️ Type your answer to _Exercise 1 (d)_ here (replacing this text)"
   ]
  },
  {
   "cell_type": "markdown",
   "metadata": {},
   "source": [
    "(e) How much of the variation in per capita log home prices in these 10 cities is explained by the log of violent crimes per 1,000 people?"
   ]
  },
  {
   "cell_type": "markdown",
   "metadata": {},
   "source": [
    "➡️ Type your answer to _Exercise 1 (e)_ here (replacing this text)"
   ]
  },
  {
   "cell_type": "markdown",
   "metadata": {},
   "source": [
    "(f) Repeat exercise (b) for one additional set of 10 cities below. **You should use Table 2 provided\n",
    "above for these calculations, not the actual observations from the .csv data file.**"
   ]
  },
  {
   "cell_type": "markdown",
   "metadata": {},
   "source": [
    "<center><b> Table 2: Log of Housing Price and Log of Violent Crimes per 1,000 People, Sample 2</b></center>\n",
    "\n",
    "|CityName\t|\tlog of Housing Price\t|\tlog of Violent Crimes per 1,000 People\t|\n",
    "|-----------|---------------|---------------|\n",
    "|sample 1\t|\tlog of Y\t|\tlog of X\t|\n",
    "|Long Beach\t|7.39633529\t|0.86246793\n",
    "|Los Angeles|\t7.64969262\t|3.38099467\n",
    "|Oakland|\t7.60090246\t|1.70837786\n",
    "|Sacramento|\t7.26542972\t|1.1703126\n",
    "|San Diego\t|7.64969262\t|1.65153909\n",
    "|San Francisco\t|7.9373747\t|1.78052999\n",
    "|San Jose\t|7.69621264\t|1.5171033\n",
    "|Santa Ana\t|7.50108212\t|0.37363038\n",
    "|Aurora\t|7.09007684\t|1.02926221\n",
    "|Colorado Springs\t|6.99393298\t|1.03175998\n",
    "\n",
    "\n"
   ]
  },
  {
   "cell_type": "markdown",
   "metadata": {},
   "source": [
    "➡️ Type your answer to _Exercise 1 (f) Second Part_ here (replacing this text)"
   ]
  },
  {
   "cell_type": "markdown",
   "metadata": {},
   "source": [
    "(g) Do your estimates of $\\hat{\\beta_0}$ and $\\hat{\\beta_1}$ change between Tables 1, and 2? Why?\n"
   ]
  },
  {
   "cell_type": "markdown",
   "metadata": {},
   "source": [
    "➡️ Type your answer to _Exercise 1 (g)_ here (replacing this text)"
   ]
  },
  {
   "cell_type": "markdown",
   "metadata": {},
   "source": [
    "(h) Save a copy of your Excel workbook as a pdf (OLS tables and scatter plot) to combine with the later work."
   ]
  },
  {
   "cell_type": "markdown",
   "metadata": {},
   "source": [
    "## Exercise 2 (Functional Forms)"
   ]
  },
  {
   "cell_type": "markdown",
   "metadata": {},
   "source": [
    "(a) Suppose you estimate alternative specifications as given below using data from 41 cities:\n",
    "\n",
    "$$ \\text{A linear relationship:} ~~~~\\hat{Y_i} = 1348.3 + 18.04 X_i$$\n",
    "$$ \\text{A linear-log relationship:} ~~~~\\hat{Y_i} = 1346.8 + 71.45 \\log(X)_i$$\n",
    "$$ \\text{A log-log relationship:} ~~~~\\widehat{\\log(Y)}_i = 7.17 + 0.04 \\log(X)_i$$\n",
    "\n",
    "Note that it is convention to always use the natural log.\n",
    "\n",
    "  i. Interpret the parameter on violent crimes per 1,000 people X (or log of violent crimes per 1,000 people log(X)) in each of these equations.\n",
    "\n",
    "  ii. What is the predicted one bedroom rental price in dollars for a city with a crime per 1 thousand equal to 2 in each of these equations?\n"
   ]
  },
  {
   "cell_type": "markdown",
   "metadata": {},
   "source": [
    "➡️ Type your answer to _Exercise 2 (a) i_ here (replacing this text)"
   ]
  },
  {
   "cell_type": "markdown",
   "metadata": {},
   "source": [
    "➡️ Type your answer to _Exercise 2 (a) ii_ here (replacing this text)"
   ]
  },
  {
   "cell_type": "markdown",
   "metadata": {},
   "source": [
    "## Exercise 3. Importing Data into R and Basic R First Commands \n",
    "\n",
    "For the purposes of this class, we will be primarily Berkeley's _Datahub_ to conduct our analysis remotely using these notebooks.\n",
    "\n",
    "If instead you already have an installation of R/RStudio on your personal computer and prefer to work offline, you can download the data for this assignment from bCourses (Make sure to install/update all packages mentioned in the problem sets in order to prevent issues regarding deprecated or outdated packages). The data files can be accessed directly  through $Datahub$ and do not require you to install anything on your computer. This exercise is designed to get you familiar with accessing the service, loading data, and obtaining summary statistics. To start off, we're going to use Jupyter notebooks to help familiarize you with some R commands. \n",
    "\n",
    "*Note: [Coding Bootcamp Part 1](https://bcourses.berkeley.edu/courses/1510635/external_tools/78985) covers all necessary R methods."
   ]
  },
  {
   "cell_type": "markdown",
   "metadata": {},
   "source": [
    "(a) To access the Jupyter notebook for this problem set on Datahub, click the following link:\n",
    "\n",
    "*Skip! You are already here - nice work.*\n"
   ]
  },
  {
   "cell_type": "markdown",
   "metadata": {},
   "source": [
    "(b) Load the data file *dataPset1_2022.csv* into R (since this is a \".csv\" file, you should use the `read.csv()` function."
   ]
  },
  {
   "cell_type": "code",
   "execution_count": null,
   "metadata": {},
   "outputs": [],
   "source": [
    "# insert code here"
   ]
  },
  {
   "cell_type": "markdown",
   "metadata": {},
   "source": [
    "(c) Provide basic summary statistics on the log of home price (*logPrice*) in the dataframe. Use the `summary()` command. This command is part of base R, so you do not need to load any packages before using it. What is the median value of log housing price in cities in the sample?"
   ]
  },
  {
   "cell_type": "code",
   "execution_count": null,
   "metadata": {},
   "outputs": [],
   "source": [
    "# insert code here"
   ]
  },
  {
   "cell_type": "markdown",
   "metadata": {},
   "source": [
    "➡️ Type your written answer to _Exercise 3 (c)_ here (replacing this text)"
   ]
  },
  {
   "cell_type": "markdown",
   "metadata": {},
   "source": [
    "(d) Next, generate custom summary statistics on the Log of violent crime (*logCrime*) using the `summarise()` command provided by ***dplyr***. You will need to call the ***tidyverse*** package with the `library()` command to use it (***tidyverse*** is a collection of packages designed for data science. It includes ***dplyr*** and several other packages we'll use this term)."
   ]
  },
  {
   "cell_type": "code",
   "execution_count": null,
   "metadata": {},
   "outputs": [],
   "source": [
    "# insert code here"
   ]
  },
  {
   "cell_type": "markdown",
   "metadata": {},
   "source": [
    "(e) Create a scatter plot of the price and crime data in levels. Use\n",
    "\n",
    "`figureAsked <- plot(my_data$violentcrime2019, my_data$pricesept2021, \n",
    "                    main = \"Scatter of Y on X\",\n",
    "                    xlab = \"X = Crime (per 100 thousand People)\", \n",
    "                    ylab = \"Y = House Price (in US dollars)\")`\n",
    "\n",
    "*Note:* Make sure to run the code cell to print the scatterplot in the notebook by calling `figureAsked` in the code cell below."
   ]
  },
  {
   "cell_type": "code",
   "execution_count": null,
   "metadata": {},
   "outputs": [],
   "source": [
    "# insert code here"
   ]
  },
  {
   "cell_type": "markdown",
   "metadata": {},
   "source": [
    "(f) Save a pdf to your computer (note:  this can be done by going to **File > Print Preview** in the menu and choosing to \"print\" the new tab as a pdf with Ctrl + P) and combine it with your excel workbook from Exercise 1 for submission on Gradescope.\n",
    "\n",
    "**Note: Make sure to check your pdf before uploading to ensure all the code cells are run and all text/output is visible, and combine with the requested Excel sheets before uploading to Gradescope.**"
   ]
  }
 ],
 "metadata": {
  "kernelspec": {
   "display_name": "R",
   "language": "R",
   "name": "ir"
  },
  "language_info": {
   "codemirror_mode": "r",
   "file_extension": ".r",
   "mimetype": "text/x-r-source",
   "name": "R",
   "pygments_lexer": "r",
   "version": "3.6.1"
  }
 },
 "nbformat": 4,
 "nbformat_minor": 4
}
