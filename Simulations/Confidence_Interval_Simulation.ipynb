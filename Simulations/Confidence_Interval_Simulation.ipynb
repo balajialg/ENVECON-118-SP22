{
 "cells": [
  {
   "cell_type": "markdown",
   "metadata": {},
   "source": [
    "# Confidence Interval Simulation\n",
    "\n",
    "This notebook works through a simulation on confidence intervals, letting us see firsthand where the randomness is coming from. "
   ]
  },
  {
   "cell_type": "markdown",
   "metadata": {},
   "source": [
    "## Preamble\n",
    "\n",
    "First we load some useful packages and set the seed for our random number generator (this chooses a starting point, allowing us all to get the same simulation results). "
   ]
  },
  {
   "cell_type": "code",
   "execution_count": 97,
   "metadata": {},
   "outputs": [],
   "source": [
    "set.seed(3482) # setting the seed lets us start from the same \"random\" place every time when generating variables\n",
    "library(tidyverse)"
   ]
  },
  {
   "cell_type": "markdown",
   "metadata": {},
   "source": [
    "## Simulating A Population of size N = 100,000\n",
    "\n",
    "We'll start by generating our population of interest, where our variable $X$ is distributed normally with a population mean $\\mu$ of 4 and a variance $\\sigma^2$ of 4 (SD of 2): $X \\sim N(4,4)$. \n",
    "\n",
    "Let's start with a population that has 100,000 observations."
   ]
  },
  {
   "cell_type": "code",
   "execution_count": 98,
   "metadata": {},
   "outputs": [
    {
     "data": {
      "text/html": [
       "<table class=\"dataframe\">\n",
       "<caption>A data.frame: 6 × 1</caption>\n",
       "<thead>\n",
       "\t<tr><th></th><th scope=col>x</th></tr>\n",
       "\t<tr><th></th><th scope=col>&lt;dbl&gt;</th></tr>\n",
       "</thead>\n",
       "<tbody>\n",
       "\t<tr><th scope=row>1</th><td>2.2958837</td></tr>\n",
       "\t<tr><th scope=row>2</th><td>3.2076796</td></tr>\n",
       "\t<tr><th scope=row>3</th><td>8.1069590</td></tr>\n",
       "\t<tr><th scope=row>4</th><td>1.7989541</td></tr>\n",
       "\t<tr><th scope=row>5</th><td>4.6109214</td></tr>\n",
       "\t<tr><th scope=row>6</th><td>0.3471974</td></tr>\n",
       "</tbody>\n",
       "</table>\n"
      ],
      "text/latex": [
       "A data.frame: 6 × 1\n",
       "\\begin{tabular}{r|l}\n",
       "  & x\\\\\n",
       "  & <dbl>\\\\\n",
       "\\hline\n",
       "\t1 & 2.2958837\\\\\n",
       "\t2 & 3.2076796\\\\\n",
       "\t3 & 8.1069590\\\\\n",
       "\t4 & 1.7989541\\\\\n",
       "\t5 & 4.6109214\\\\\n",
       "\t6 & 0.3471974\\\\\n",
       "\\end{tabular}\n"
      ],
      "text/markdown": [
       "\n",
       "A data.frame: 6 × 1\n",
       "\n",
       "| <!--/--> | x &lt;dbl&gt; |\n",
       "|---|---|\n",
       "| 1 | 2.2958837 |\n",
       "| 2 | 3.2076796 |\n",
       "| 3 | 8.1069590 |\n",
       "| 4 | 1.7989541 |\n",
       "| 5 | 4.6109214 |\n",
       "| 6 | 0.3471974 |\n",
       "\n"
      ],
      "text/plain": [
       "  x        \n",
       "1 2.2958837\n",
       "2 3.2076796\n",
       "3 8.1069590\n",
       "4 1.7989541\n",
       "5 4.6109214\n",
       "6 0.3471974"
      ]
     },
     "metadata": {},
     "output_type": "display_data"
    }
   ],
   "source": [
    "pop <- data.frame(x = rnorm(100000, mean = 4, sd = 2))\n",
    "head(pop)"
   ]
  },
  {
   "cell_type": "markdown",
   "metadata": {},
   "source": [
    "## Confidence Interval for a Sample of size n = 50\n",
    "\n",
    "Here we begin by taking a sample of size 50 for $X$ and then construct a confidence interval. Since we generated this variable, we know with certainty what the population parameter values are. However, in ordinary circumstances, we don't get to observe $\\mu$ directly, so we want to use the sample to construct a confidence interval and get a range of likely values for $\\mu$.\n",
    "\n",
    "We can use the very convenient `slice_sample()` function in tidyverse to do this. The first argument is the name of our dataframe, and the second is the number of observations we want to randomly sample (here $n=50$). "
   ]
  },
  {
   "cell_type": "code",
   "execution_count": 99,
   "metadata": {},
   "outputs": [
    {
     "data": {
      "text/html": [
       "<table class=\"dataframe\">\n",
       "<caption>A data.frame: 1 × 4</caption>\n",
       "<thead>\n",
       "\t<tr><th scope=col>Mean</th><th scope=col>Standard.Deviation</th><th scope=col>CI_Lower</th><th scope=col>CI_Upper</th></tr>\n",
       "\t<tr><th scope=col>&lt;dbl&gt;</th><th scope=col>&lt;dbl&gt;</th><th scope=col>&lt;dbl&gt;</th><th scope=col>&lt;dbl&gt;</th></tr>\n",
       "</thead>\n",
       "<tbody>\n",
       "\t<tr><td>3.602531</td><td>2.093004</td><td>3.007706</td><td>4.197357</td></tr>\n",
       "</tbody>\n",
       "</table>\n"
      ],
      "text/latex": [
       "A data.frame: 1 × 4\n",
       "\\begin{tabular}{llll}\n",
       " Mean & Standard.Deviation & CI\\_Lower & CI\\_Upper\\\\\n",
       " <dbl> & <dbl> & <dbl> & <dbl>\\\\\n",
       "\\hline\n",
       "\t 3.602531 & 2.093004 & 3.007706 & 4.197357\\\\\n",
       "\\end{tabular}\n"
      ],
      "text/markdown": [
       "\n",
       "A data.frame: 1 × 4\n",
       "\n",
       "| Mean &lt;dbl&gt; | Standard.Deviation &lt;dbl&gt; | CI_Lower &lt;dbl&gt; | CI_Upper &lt;dbl&gt; |\n",
       "|---|---|---|---|\n",
       "| 3.602531 | 2.093004 | 3.007706 | 4.197357 |\n",
       "\n"
      ],
      "text/plain": [
       "  Mean     Standard.Deviation CI_Lower CI_Upper\n",
       "1 3.602531 2.093004           3.007706 4.197357"
      ]
     },
     "metadata": {},
     "output_type": "display_data"
    }
   ],
   "source": [
    "# One sample CI\n",
    "n <- 50\n",
    "# sample of 50 obs drawn from an N(4,4) distribution\n",
    "sample_50 <- slice_sample(pop, n = 50)\n",
    "\n",
    "# get the mean and sample standard deviation\n",
    "m <- mean(sample_50$x)\n",
    "s <- sd(sample_50$x)\n",
    "\n",
    "# draw the critical value from a t dist with df = 50-1=49\n",
    "c <- qt(0.975, 49)\n",
    "# Calculate lower and upper bounds for a 95% confidence interval\n",
    "# recall the \n",
    "ci_low <- m - c*s/sqrt(n)\n",
    "ci_upper <- m + c*s/sqrt(n) \n",
    "\n",
    "one_sim <- data.frame(Mean = m,\n",
    "                  Standard.Deviation = s,\n",
    "                  CI_Lower = ci_low,\n",
    "                  CI_Upper = ci_upper)\n",
    "one_sim"
   ]
  },
  {
   "cell_type": "markdown",
   "metadata": {},
   "source": [
    "We can see that our 95% confidence interval is [3.01, 4.20], which does cover the true mean $\\mu=4$! "
   ]
  },
  {
   "cell_type": "markdown",
   "metadata": {},
   "source": [
    "## Simulating 1,000 samples of size n = 50\n",
    "\n",
    "While our first sample and confidence interval managed to cover the true mean, what happens if we do this a *lot* of times?\n",
    "\n",
    "To explore this, let's first build a function that draws a single sample of size $n$ and constructs a 95\\% confidence interval. To do this we can mostly just pilfer the code we used above."
   ]
  },
  {
   "cell_type": "code",
   "execution_count": 100,
   "metadata": {},
   "outputs": [],
   "source": [
    "## Function to draw a sample of size n, construct 95% CI\n",
    "# argument 1: the sample size, ss\n",
    "# argument 2: the population data frame, df\n",
    "samp_ci = function(ss, df){\n",
    "    # draw sample of size n from the population data\n",
    "    s <- slice_sample(df, n = ss)\n",
    "    # construct CI\n",
    "    m <- mean(s$x)\n",
    "    s <- sd(s$x)\n",
    "    c <- qt(0.975, 49)\n",
    "    \n",
    "    # put together output dataframe\n",
    "    res <- data.frame(Mean = m,\n",
    "                  Standard.Deviation = s,\n",
    "                  CI_Lower =  m - c*s/sqrt(ss),\n",
    "                  CI_Upper = m + c*s/sqrt(ss) )\n",
    "    # tell the function what to return as output\n",
    "    return(res)\n",
    "}\n"
   ]
  },
  {
   "cell_type": "markdown",
   "metadata": {},
   "source": [
    "What we did here is write a function that has two arguments. First, we tell R the sample size we want to use ($ss$). Second, we tell the function what the population data is called ($df$). \n",
    "\n",
    "Let's test it by drawing a sample of size $n=50$ and letting our function know that our population data is stored in **pop**"
   ]
  },
  {
   "cell_type": "code",
   "execution_count": 101,
   "metadata": {},
   "outputs": [
    {
     "data": {
      "text/html": [
       "<table class=\"dataframe\">\n",
       "<caption>A data.frame: 1 × 4</caption>\n",
       "<thead>\n",
       "\t<tr><th scope=col>Mean</th><th scope=col>Standard.Deviation</th><th scope=col>CI_Lower</th><th scope=col>CI_Upper</th></tr>\n",
       "\t<tr><th scope=col>&lt;dbl&gt;</th><th scope=col>&lt;dbl&gt;</th><th scope=col>&lt;dbl&gt;</th><th scope=col>&lt;dbl&gt;</th></tr>\n",
       "</thead>\n",
       "<tbody>\n",
       "\t<tr><td>3.68156</td><td>1.976411</td><td>3.11987</td><td>4.24325</td></tr>\n",
       "</tbody>\n",
       "</table>\n"
      ],
      "text/latex": [
       "A data.frame: 1 × 4\n",
       "\\begin{tabular}{llll}\n",
       " Mean & Standard.Deviation & CI\\_Lower & CI\\_Upper\\\\\n",
       " <dbl> & <dbl> & <dbl> & <dbl>\\\\\n",
       "\\hline\n",
       "\t 3.68156 & 1.976411 & 3.11987 & 4.24325\\\\\n",
       "\\end{tabular}\n"
      ],
      "text/markdown": [
       "\n",
       "A data.frame: 1 × 4\n",
       "\n",
       "| Mean &lt;dbl&gt; | Standard.Deviation &lt;dbl&gt; | CI_Lower &lt;dbl&gt; | CI_Upper &lt;dbl&gt; |\n",
       "|---|---|---|---|\n",
       "| 3.68156 | 1.976411 | 3.11987 | 4.24325 |\n",
       "\n"
      ],
      "text/plain": [
       "  Mean    Standard.Deviation CI_Lower CI_Upper\n",
       "1 3.68156 1.976411           3.11987  4.24325 "
      ]
     },
     "metadata": {},
     "output_type": "display_data"
    }
   ],
   "source": [
    "samp_ci(ss=50, df=pop)"
   ]
  },
  {
   "cell_type": "markdown",
   "metadata": {},
   "source": [
    "And we can see that we once again obtained a 95\\% confidence interval that covers the true mean $\\mu=4$.\n",
    "\n",
    "Now let's go ahead and see what happens if we draw 1,000 samples and calculate confidence intervals for each one. To do this we can use the `map_dfr()` function:"
   ]
  },
  {
   "cell_type": "code",
   "execution_count": 102,
   "metadata": {},
   "outputs": [
    {
     "data": {
      "text/html": [
       "<style>\n",
       ".list-inline {list-style: none; margin:0; padding: 0}\n",
       ".list-inline>li {display: inline-block}\n",
       ".list-inline>li:not(:last-child)::after {content: \"\\00b7\"; padding: 0 .5ex}\n",
       "</style>\n",
       "<ol class=list-inline><li>50</li><li>50</li><li>50</li><li>50</li><li>50</li><li>50</li></ol>\n"
      ],
      "text/latex": [
       "\\begin{enumerate*}\n",
       "\\item 50\n",
       "\\item 50\n",
       "\\item 50\n",
       "\\item 50\n",
       "\\item 50\n",
       "\\item 50\n",
       "\\end{enumerate*}\n"
      ],
      "text/markdown": [
       "1. 50\n",
       "2. 50\n",
       "3. 50\n",
       "4. 50\n",
       "5. 50\n",
       "6. 50\n",
       "\n",
       "\n"
      ],
      "text/plain": [
       "[1] 50 50 50 50 50 50"
      ]
     },
     "metadata": {},
     "output_type": "display_data"
    },
    {
     "data": {
      "text/html": [
       "<table class=\"dataframe\">\n",
       "<caption>A data.frame: 20 × 4</caption>\n",
       "<thead>\n",
       "\t<tr><th></th><th scope=col>Mean</th><th scope=col>Standard.Deviation</th><th scope=col>CI_Lower</th><th scope=col>CI_Upper</th></tr>\n",
       "\t<tr><th></th><th scope=col>&lt;dbl&gt;</th><th scope=col>&lt;dbl&gt;</th><th scope=col>&lt;dbl&gt;</th><th scope=col>&lt;dbl&gt;</th></tr>\n",
       "</thead>\n",
       "<tbody>\n",
       "\t<tr><th scope=row>1</th><td>3.910787</td><td>1.986493</td><td>3.346232</td><td>4.475342</td></tr>\n",
       "\t<tr><th scope=row>2</th><td>4.038107</td><td>2.346277</td><td>3.371303</td><td>4.704912</td></tr>\n",
       "\t<tr><th scope=row>3</th><td>4.441606</td><td>2.049776</td><td>3.859067</td><td>5.024146</td></tr>\n",
       "\t<tr><th scope=row>4</th><td>3.840045</td><td>2.090529</td><td>3.245924</td><td>4.434167</td></tr>\n",
       "\t<tr><th scope=row>5</th><td>3.481528</td><td>2.221027</td><td>2.850319</td><td>4.112737</td></tr>\n",
       "\t<tr><th scope=row>6</th><td>4.468832</td><td>1.958048</td><td>3.912361</td><td>5.025303</td></tr>\n",
       "\t<tr><th scope=row>7</th><td>4.348770</td><td>2.112055</td><td>3.748531</td><td>4.949010</td></tr>\n",
       "\t<tr><th scope=row>8</th><td>4.215372</td><td>1.861171</td><td>3.686433</td><td>4.744311</td></tr>\n",
       "\t<tr><th scope=row>9</th><td>4.608827</td><td>2.126813</td><td>4.004393</td><td>5.213261</td></tr>\n",
       "\t<tr><th scope=row>10</th><td>3.786267</td><td>1.876883</td><td>3.252863</td><td>4.319672</td></tr>\n",
       "\t<tr><th scope=row>11</th><td>4.104460</td><td>1.685815</td><td>3.625357</td><td>4.583564</td></tr>\n",
       "\t<tr><th scope=row>12</th><td>4.082810</td><td>1.921483</td><td>3.536731</td><td>4.628890</td></tr>\n",
       "\t<tr><th scope=row>13</th><td>4.215915</td><td>2.189295</td><td>3.593724</td><td>4.838106</td></tr>\n",
       "\t<tr><th scope=row>14</th><td>4.236722</td><td>1.831730</td><td>3.716150</td><td>4.757294</td></tr>\n",
       "\t<tr><th scope=row>15</th><td>4.035092</td><td>1.915786</td><td>3.490631</td><td>4.579552</td></tr>\n",
       "\t<tr><th scope=row>16</th><td>3.633869</td><td>2.060457</td><td>3.048293</td><td>4.219444</td></tr>\n",
       "\t<tr><th scope=row>17</th><td>3.887832</td><td>1.848014</td><td>3.362632</td><td>4.413032</td></tr>\n",
       "\t<tr><th scope=row>18</th><td>4.024096</td><td>2.036531</td><td>3.445320</td><td>4.602872</td></tr>\n",
       "\t<tr><th scope=row>19</th><td>3.971066</td><td>1.608852</td><td>3.513835</td><td>4.428297</td></tr>\n",
       "\t<tr><th scope=row>20</th><td>4.108976</td><td>1.826658</td><td>3.589845</td><td>4.628106</td></tr>\n",
       "</tbody>\n",
       "</table>\n"
      ],
      "text/latex": [
       "A data.frame: 20 × 4\n",
       "\\begin{tabular}{r|llll}\n",
       "  & Mean & Standard.Deviation & CI\\_Lower & CI\\_Upper\\\\\n",
       "  & <dbl> & <dbl> & <dbl> & <dbl>\\\\\n",
       "\\hline\n",
       "\t1 & 3.910787 & 1.986493 & 3.346232 & 4.475342\\\\\n",
       "\t2 & 4.038107 & 2.346277 & 3.371303 & 4.704912\\\\\n",
       "\t3 & 4.441606 & 2.049776 & 3.859067 & 5.024146\\\\\n",
       "\t4 & 3.840045 & 2.090529 & 3.245924 & 4.434167\\\\\n",
       "\t5 & 3.481528 & 2.221027 & 2.850319 & 4.112737\\\\\n",
       "\t6 & 4.468832 & 1.958048 & 3.912361 & 5.025303\\\\\n",
       "\t7 & 4.348770 & 2.112055 & 3.748531 & 4.949010\\\\\n",
       "\t8 & 4.215372 & 1.861171 & 3.686433 & 4.744311\\\\\n",
       "\t9 & 4.608827 & 2.126813 & 4.004393 & 5.213261\\\\\n",
       "\t10 & 3.786267 & 1.876883 & 3.252863 & 4.319672\\\\\n",
       "\t11 & 4.104460 & 1.685815 & 3.625357 & 4.583564\\\\\n",
       "\t12 & 4.082810 & 1.921483 & 3.536731 & 4.628890\\\\\n",
       "\t13 & 4.215915 & 2.189295 & 3.593724 & 4.838106\\\\\n",
       "\t14 & 4.236722 & 1.831730 & 3.716150 & 4.757294\\\\\n",
       "\t15 & 4.035092 & 1.915786 & 3.490631 & 4.579552\\\\\n",
       "\t16 & 3.633869 & 2.060457 & 3.048293 & 4.219444\\\\\n",
       "\t17 & 3.887832 & 1.848014 & 3.362632 & 4.413032\\\\\n",
       "\t18 & 4.024096 & 2.036531 & 3.445320 & 4.602872\\\\\n",
       "\t19 & 3.971066 & 1.608852 & 3.513835 & 4.428297\\\\\n",
       "\t20 & 4.108976 & 1.826658 & 3.589845 & 4.628106\\\\\n",
       "\\end{tabular}\n"
      ],
      "text/markdown": [
       "\n",
       "A data.frame: 20 × 4\n",
       "\n",
       "| <!--/--> | Mean &lt;dbl&gt; | Standard.Deviation &lt;dbl&gt; | CI_Lower &lt;dbl&gt; | CI_Upper &lt;dbl&gt; |\n",
       "|---|---|---|---|---|\n",
       "| 1 | 3.910787 | 1.986493 | 3.346232 | 4.475342 |\n",
       "| 2 | 4.038107 | 2.346277 | 3.371303 | 4.704912 |\n",
       "| 3 | 4.441606 | 2.049776 | 3.859067 | 5.024146 |\n",
       "| 4 | 3.840045 | 2.090529 | 3.245924 | 4.434167 |\n",
       "| 5 | 3.481528 | 2.221027 | 2.850319 | 4.112737 |\n",
       "| 6 | 4.468832 | 1.958048 | 3.912361 | 5.025303 |\n",
       "| 7 | 4.348770 | 2.112055 | 3.748531 | 4.949010 |\n",
       "| 8 | 4.215372 | 1.861171 | 3.686433 | 4.744311 |\n",
       "| 9 | 4.608827 | 2.126813 | 4.004393 | 5.213261 |\n",
       "| 10 | 3.786267 | 1.876883 | 3.252863 | 4.319672 |\n",
       "| 11 | 4.104460 | 1.685815 | 3.625357 | 4.583564 |\n",
       "| 12 | 4.082810 | 1.921483 | 3.536731 | 4.628890 |\n",
       "| 13 | 4.215915 | 2.189295 | 3.593724 | 4.838106 |\n",
       "| 14 | 4.236722 | 1.831730 | 3.716150 | 4.757294 |\n",
       "| 15 | 4.035092 | 1.915786 | 3.490631 | 4.579552 |\n",
       "| 16 | 3.633869 | 2.060457 | 3.048293 | 4.219444 |\n",
       "| 17 | 3.887832 | 1.848014 | 3.362632 | 4.413032 |\n",
       "| 18 | 4.024096 | 2.036531 | 3.445320 | 4.602872 |\n",
       "| 19 | 3.971066 | 1.608852 | 3.513835 | 4.428297 |\n",
       "| 20 | 4.108976 | 1.826658 | 3.589845 | 4.628106 |\n",
       "\n"
      ],
      "text/plain": [
       "   Mean     Standard.Deviation CI_Lower CI_Upper\n",
       "1  3.910787 1.986493           3.346232 4.475342\n",
       "2  4.038107 2.346277           3.371303 4.704912\n",
       "3  4.441606 2.049776           3.859067 5.024146\n",
       "4  3.840045 2.090529           3.245924 4.434167\n",
       "5  3.481528 2.221027           2.850319 4.112737\n",
       "6  4.468832 1.958048           3.912361 5.025303\n",
       "7  4.348770 2.112055           3.748531 4.949010\n",
       "8  4.215372 1.861171           3.686433 4.744311\n",
       "9  4.608827 2.126813           4.004393 5.213261\n",
       "10 3.786267 1.876883           3.252863 4.319672\n",
       "11 4.104460 1.685815           3.625357 4.583564\n",
       "12 4.082810 1.921483           3.536731 4.628890\n",
       "13 4.215915 2.189295           3.593724 4.838106\n",
       "14 4.236722 1.831730           3.716150 4.757294\n",
       "15 4.035092 1.915786           3.490631 4.579552\n",
       "16 3.633869 2.060457           3.048293 4.219444\n",
       "17 3.887832 1.848014           3.362632 4.413032\n",
       "18 4.024096 2.036531           3.445320 4.602872\n",
       "19 3.971066 1.608852           3.513835 4.428297\n",
       "20 4.108976 1.826658           3.589845 4.628106"
      ]
     },
     "metadata": {},
     "output_type": "display_data"
    }
   ],
   "source": [
    "# run samp_ci 1000 times, each time using a sample size of 50\n",
    "ci_1k <- map_dfr(rep_len(50, 1000), samp_ci, df = pop)\n",
    "head(rep_len(50, 1000))\n",
    "head(ci_1k, 20)"
   ]
  },
  {
   "cell_type": "markdown",
   "metadata": {},
   "source": [
    "What kind of sorcery did we just pull? First, let's walk through how the function works. `map_dfr()` is part of **dplyr** in **tidyverse** and allows us to apply a function to every element in a vector. In this case, we used the vector `rep_len(50, 1000)` - which is just the value 50 repeated over and over again 1000 times -  as the first argument. Our second argument is the name of the function we want to loop over - here our `samp_ci()` we built. Finally, since `samp_ci()` has an additional argument (the population dataframe name), we have to pass it in as a third argument (the `df = pop` part). `map_dfr()` then row binds together the output of all 1000 runs of our confidence interval function, resulting in a new dataframe with 1000 rows where each row contains the sample mean, std deviation, and confidence interval bounds for each sample."
   ]
  },
  {
   "cell_type": "markdown",
   "metadata": {},
   "source": [
    "## Failures of our Confidence Intervals\n",
    "\n",
    "Now let's check to see how many of these confidence intervals __do not__ include our true population mean, $\\mu = 4$. We'll do this by creating dummy variables that are equal to one if the lower bound is greater than 4, or if the upper bound is less than 4. \n",
    "\n",
    "To get a sense of how often the confidence interval doesn't contain the true mean of 4, we can sum up the positive values for our $bad_lower$ and $bad_upper$ variables and divide by the number of simulations."
   ]
  },
  {
   "cell_type": "code",
   "execution_count": 103,
   "metadata": {},
   "outputs": [
    {
     "data": {
      "text/html": [
       "<table class=\"dataframe\">\n",
       "<caption>A data.frame: 10 × 6</caption>\n",
       "<thead>\n",
       "\t<tr><th></th><th scope=col>Mean</th><th scope=col>Standard.Deviation</th><th scope=col>CI_Lower</th><th scope=col>CI_Upper</th><th scope=col>bad_lower</th><th scope=col>bad_upper</th></tr>\n",
       "\t<tr><th></th><th scope=col>&lt;dbl&gt;</th><th scope=col>&lt;dbl&gt;</th><th scope=col>&lt;dbl&gt;</th><th scope=col>&lt;dbl&gt;</th><th scope=col>&lt;dbl&gt;</th><th scope=col>&lt;dbl&gt;</th></tr>\n",
       "</thead>\n",
       "<tbody>\n",
       "\t<tr><th scope=row>1</th><td>3.910787</td><td>1.986493</td><td>3.346232</td><td>4.475342</td><td>0</td><td>0</td></tr>\n",
       "\t<tr><th scope=row>2</th><td>4.038107</td><td>2.346277</td><td>3.371303</td><td>4.704912</td><td>0</td><td>0</td></tr>\n",
       "\t<tr><th scope=row>3</th><td>4.441606</td><td>2.049776</td><td>3.859067</td><td>5.024146</td><td>0</td><td>0</td></tr>\n",
       "\t<tr><th scope=row>4</th><td>3.840045</td><td>2.090529</td><td>3.245924</td><td>4.434167</td><td>0</td><td>0</td></tr>\n",
       "\t<tr><th scope=row>5</th><td>3.481528</td><td>2.221027</td><td>2.850319</td><td>4.112737</td><td>0</td><td>0</td></tr>\n",
       "\t<tr><th scope=row>6</th><td>4.468832</td><td>1.958048</td><td>3.912361</td><td>5.025303</td><td>0</td><td>0</td></tr>\n",
       "\t<tr><th scope=row>7</th><td>4.348770</td><td>2.112055</td><td>3.748531</td><td>4.949010</td><td>0</td><td>0</td></tr>\n",
       "\t<tr><th scope=row>8</th><td>4.215372</td><td>1.861171</td><td>3.686433</td><td>4.744311</td><td>0</td><td>0</td></tr>\n",
       "\t<tr><th scope=row>9</th><td>4.608827</td><td>2.126813</td><td>4.004393</td><td>5.213261</td><td>1</td><td>0</td></tr>\n",
       "\t<tr><th scope=row>10</th><td>3.786267</td><td>1.876883</td><td>3.252863</td><td>4.319672</td><td>0</td><td>0</td></tr>\n",
       "</tbody>\n",
       "</table>\n"
      ],
      "text/latex": [
       "A data.frame: 10 × 6\n",
       "\\begin{tabular}{r|llllll}\n",
       "  & Mean & Standard.Deviation & CI\\_Lower & CI\\_Upper & bad\\_lower & bad\\_upper\\\\\n",
       "  & <dbl> & <dbl> & <dbl> & <dbl> & <dbl> & <dbl>\\\\\n",
       "\\hline\n",
       "\t1 & 3.910787 & 1.986493 & 3.346232 & 4.475342 & 0 & 0\\\\\n",
       "\t2 & 4.038107 & 2.346277 & 3.371303 & 4.704912 & 0 & 0\\\\\n",
       "\t3 & 4.441606 & 2.049776 & 3.859067 & 5.024146 & 0 & 0\\\\\n",
       "\t4 & 3.840045 & 2.090529 & 3.245924 & 4.434167 & 0 & 0\\\\\n",
       "\t5 & 3.481528 & 2.221027 & 2.850319 & 4.112737 & 0 & 0\\\\\n",
       "\t6 & 4.468832 & 1.958048 & 3.912361 & 5.025303 & 0 & 0\\\\\n",
       "\t7 & 4.348770 & 2.112055 & 3.748531 & 4.949010 & 0 & 0\\\\\n",
       "\t8 & 4.215372 & 1.861171 & 3.686433 & 4.744311 & 0 & 0\\\\\n",
       "\t9 & 4.608827 & 2.126813 & 4.004393 & 5.213261 & 1 & 0\\\\\n",
       "\t10 & 3.786267 & 1.876883 & 3.252863 & 4.319672 & 0 & 0\\\\\n",
       "\\end{tabular}\n"
      ],
      "text/markdown": [
       "\n",
       "A data.frame: 10 × 6\n",
       "\n",
       "| <!--/--> | Mean &lt;dbl&gt; | Standard.Deviation &lt;dbl&gt; | CI_Lower &lt;dbl&gt; | CI_Upper &lt;dbl&gt; | bad_lower &lt;dbl&gt; | bad_upper &lt;dbl&gt; |\n",
       "|---|---|---|---|---|---|---|\n",
       "| 1 | 3.910787 | 1.986493 | 3.346232 | 4.475342 | 0 | 0 |\n",
       "| 2 | 4.038107 | 2.346277 | 3.371303 | 4.704912 | 0 | 0 |\n",
       "| 3 | 4.441606 | 2.049776 | 3.859067 | 5.024146 | 0 | 0 |\n",
       "| 4 | 3.840045 | 2.090529 | 3.245924 | 4.434167 | 0 | 0 |\n",
       "| 5 | 3.481528 | 2.221027 | 2.850319 | 4.112737 | 0 | 0 |\n",
       "| 6 | 4.468832 | 1.958048 | 3.912361 | 5.025303 | 0 | 0 |\n",
       "| 7 | 4.348770 | 2.112055 | 3.748531 | 4.949010 | 0 | 0 |\n",
       "| 8 | 4.215372 | 1.861171 | 3.686433 | 4.744311 | 0 | 0 |\n",
       "| 9 | 4.608827 | 2.126813 | 4.004393 | 5.213261 | 1 | 0 |\n",
       "| 10 | 3.786267 | 1.876883 | 3.252863 | 4.319672 | 0 | 0 |\n",
       "\n"
      ],
      "text/plain": [
       "   Mean     Standard.Deviation CI_Lower CI_Upper bad_lower bad_upper\n",
       "1  3.910787 1.986493           3.346232 4.475342 0         0        \n",
       "2  4.038107 2.346277           3.371303 4.704912 0         0        \n",
       "3  4.441606 2.049776           3.859067 5.024146 0         0        \n",
       "4  3.840045 2.090529           3.245924 4.434167 0         0        \n",
       "5  3.481528 2.221027           2.850319 4.112737 0         0        \n",
       "6  4.468832 1.958048           3.912361 5.025303 0         0        \n",
       "7  4.348770 2.112055           3.748531 4.949010 0         0        \n",
       "8  4.215372 1.861171           3.686433 4.744311 0         0        \n",
       "9  4.608827 2.126813           4.004393 5.213261 1         0        \n",
       "10 3.786267 1.876883           3.252863 4.319672 0         0        "
      ]
     },
     "metadata": {},
     "output_type": "display_data"
    },
    {
     "data": {
      "text/html": [
       "<table class=\"dataframe\">\n",
       "<caption>A data.frame: 10 × 6</caption>\n",
       "<thead>\n",
       "\t<tr><th></th><th scope=col>Mean</th><th scope=col>Standard.Deviation</th><th scope=col>CI_Lower</th><th scope=col>CI_Upper</th><th scope=col>bad_lower</th><th scope=col>bad_upper</th></tr>\n",
       "\t<tr><th></th><th scope=col>&lt;dbl&gt;</th><th scope=col>&lt;dbl&gt;</th><th scope=col>&lt;dbl&gt;</th><th scope=col>&lt;dbl&gt;</th><th scope=col>&lt;dbl&gt;</th><th scope=col>&lt;dbl&gt;</th></tr>\n",
       "</thead>\n",
       "<tbody>\n",
       "\t<tr><th scope=row>991</th><td>4.277897</td><td>2.122407</td><td>3.674716</td><td>4.881079</td><td>0</td><td>0</td></tr>\n",
       "\t<tr><th scope=row>992</th><td>4.089050</td><td>1.962988</td><td>3.531175</td><td>4.646925</td><td>0</td><td>0</td></tr>\n",
       "\t<tr><th scope=row>993</th><td>3.705451</td><td>1.984583</td><td>3.141439</td><td>4.269464</td><td>0</td><td>0</td></tr>\n",
       "\t<tr><th scope=row>994</th><td>3.885479</td><td>1.879134</td><td>3.351435</td><td>4.419523</td><td>0</td><td>0</td></tr>\n",
       "\t<tr><th scope=row>995</th><td>3.644927</td><td>1.606857</td><td>3.188264</td><td>4.101591</td><td>0</td><td>0</td></tr>\n",
       "\t<tr><th scope=row>996</th><td>4.155491</td><td>2.170413</td><td>3.538667</td><td>4.772316</td><td>0</td><td>0</td></tr>\n",
       "\t<tr><th scope=row>997</th><td>4.448039</td><td>1.812853</td><td>3.932832</td><td>4.963246</td><td>0</td><td>0</td></tr>\n",
       "\t<tr><th scope=row>998</th><td>3.997748</td><td>1.832535</td><td>3.476948</td><td>4.518549</td><td>0</td><td>0</td></tr>\n",
       "\t<tr><th scope=row>999</th><td>4.294005</td><td>1.647902</td><td>3.825676</td><td>4.762333</td><td>0</td><td>0</td></tr>\n",
       "\t<tr><th scope=row>1000</th><td>4.217121</td><td>2.169126</td><td>3.600662</td><td>4.833580</td><td>0</td><td>0</td></tr>\n",
       "</tbody>\n",
       "</table>\n"
      ],
      "text/latex": [
       "A data.frame: 10 × 6\n",
       "\\begin{tabular}{r|llllll}\n",
       "  & Mean & Standard.Deviation & CI\\_Lower & CI\\_Upper & bad\\_lower & bad\\_upper\\\\\n",
       "  & <dbl> & <dbl> & <dbl> & <dbl> & <dbl> & <dbl>\\\\\n",
       "\\hline\n",
       "\t991 & 4.277897 & 2.122407 & 3.674716 & 4.881079 & 0 & 0\\\\\n",
       "\t992 & 4.089050 & 1.962988 & 3.531175 & 4.646925 & 0 & 0\\\\\n",
       "\t993 & 3.705451 & 1.984583 & 3.141439 & 4.269464 & 0 & 0\\\\\n",
       "\t994 & 3.885479 & 1.879134 & 3.351435 & 4.419523 & 0 & 0\\\\\n",
       "\t995 & 3.644927 & 1.606857 & 3.188264 & 4.101591 & 0 & 0\\\\\n",
       "\t996 & 4.155491 & 2.170413 & 3.538667 & 4.772316 & 0 & 0\\\\\n",
       "\t997 & 4.448039 & 1.812853 & 3.932832 & 4.963246 & 0 & 0\\\\\n",
       "\t998 & 3.997748 & 1.832535 & 3.476948 & 4.518549 & 0 & 0\\\\\n",
       "\t999 & 4.294005 & 1.647902 & 3.825676 & 4.762333 & 0 & 0\\\\\n",
       "\t1000 & 4.217121 & 2.169126 & 3.600662 & 4.833580 & 0 & 0\\\\\n",
       "\\end{tabular}\n"
      ],
      "text/markdown": [
       "\n",
       "A data.frame: 10 × 6\n",
       "\n",
       "| <!--/--> | Mean &lt;dbl&gt; | Standard.Deviation &lt;dbl&gt; | CI_Lower &lt;dbl&gt; | CI_Upper &lt;dbl&gt; | bad_lower &lt;dbl&gt; | bad_upper &lt;dbl&gt; |\n",
       "|---|---|---|---|---|---|---|\n",
       "| 991 | 4.277897 | 2.122407 | 3.674716 | 4.881079 | 0 | 0 |\n",
       "| 992 | 4.089050 | 1.962988 | 3.531175 | 4.646925 | 0 | 0 |\n",
       "| 993 | 3.705451 | 1.984583 | 3.141439 | 4.269464 | 0 | 0 |\n",
       "| 994 | 3.885479 | 1.879134 | 3.351435 | 4.419523 | 0 | 0 |\n",
       "| 995 | 3.644927 | 1.606857 | 3.188264 | 4.101591 | 0 | 0 |\n",
       "| 996 | 4.155491 | 2.170413 | 3.538667 | 4.772316 | 0 | 0 |\n",
       "| 997 | 4.448039 | 1.812853 | 3.932832 | 4.963246 | 0 | 0 |\n",
       "| 998 | 3.997748 | 1.832535 | 3.476948 | 4.518549 | 0 | 0 |\n",
       "| 999 | 4.294005 | 1.647902 | 3.825676 | 4.762333 | 0 | 0 |\n",
       "| 1000 | 4.217121 | 2.169126 | 3.600662 | 4.833580 | 0 | 0 |\n",
       "\n"
      ],
      "text/plain": [
       "     Mean     Standard.Deviation CI_Lower CI_Upper bad_lower bad_upper\n",
       "991  4.277897 2.122407           3.674716 4.881079 0         0        \n",
       "992  4.089050 1.962988           3.531175 4.646925 0         0        \n",
       "993  3.705451 1.984583           3.141439 4.269464 0         0        \n",
       "994  3.885479 1.879134           3.351435 4.419523 0         0        \n",
       "995  3.644927 1.606857           3.188264 4.101591 0         0        \n",
       "996  4.155491 2.170413           3.538667 4.772316 0         0        \n",
       "997  4.448039 1.812853           3.932832 4.963246 0         0        \n",
       "998  3.997748 1.832535           3.476948 4.518549 0         0        \n",
       "999  4.294005 1.647902           3.825676 4.762333 0         0        \n",
       "1000 4.217121 2.169126           3.600662 4.833580 0         0        "
      ]
     },
     "metadata": {},
     "output_type": "display_data"
    },
    {
     "data": {
      "text/html": [
       "'The fraction of 95% confidence intervals that do not include the true mean of 4 is 0.048'"
      ],
      "text/latex": [
       "'The fraction of 95\\% confidence intervals that do not include the true mean of 4 is 0.048'"
      ],
      "text/markdown": [
       "'The fraction of 95% confidence intervals that do not include the true mean of 4 is 0.048'"
      ],
      "text/plain": [
       "[1] \"The fraction of 95% confidence intervals that do not include the true mean of 4 is 0.048\""
      ]
     },
     "metadata": {},
     "output_type": "display_data"
    }
   ],
   "source": [
    "# Add variables indicating whether or not a confidence interval's lower bound is above 4 \n",
    "# or if the upper bound is below 4 (i.e. CI doesn't include true mean)\n",
    "ci_1k <- mutate(ci_1k,\n",
    "                bad_lower = ifelse(CI_Lower > 4, 1, 0),\n",
    "                bad_upper = ifelse(CI_Upper < 4, 1, 0))\n",
    "head(ci_1k, 10)\n",
    "tail(ci_1k, 10)\n",
    "\n",
    "# Percentage of simulations with confidence intervals that don't include the true mean\n",
    "bad_frac <- (sum(ci_1k$bad_lower) + sum(ci_1k$bad_upper))/ 1000\n",
    "paste0(\"The fraction of 95% confidence intervals that do not include the true mean of 4 is \", bad_frac)"
   ]
  },
  {
   "cell_type": "markdown",
   "metadata": {},
   "source": [
    " Looking at the first ten and last ten samples, we see only one out of twenty missed high. In fact, we see that the 95% confidence intervals for our simulations do not contain the true population mean in 4.8\\% of the samples, almost exactly equal to 5%!"
   ]
  },
  {
   "cell_type": "markdown",
   "metadata": {},
   "source": [
    "## Plotting the Distribution of $\\bar{X}$\n",
    "\n",
    "The below plot shows our distribution for $\\bar{X}$. The red lines represent the upper and lower bounds for a 95% confidence interval using the true _population_ standard deviation. Since we generated our samples from an $N(4,4)$ distribution, we know that $\\sigma = 2$ and can calculate the confidence interval as\n",
    "\n",
    "$$ \\text{95% True Confidence Interval} ~=~ \\left[\\bar{x} - 1.96 \\cdot \\frac{\\sigma}{\\sqrt{n}},~ \\bar{x} + 1.96 \\cdot \\frac{\\sigma}{\\sqrt{n}}\\right]$$\n",
    "\n",
    "$$ \\text{95% True Confidence Interval} ~=~ \\left[\\bar{x} - 1.96 \\cdot \\frac{2}{\\sqrt{50}},~ \\bar{x} + 1.96 \\cdot \\frac{2}{\\sqrt{50}}\\right]$$\n",
    "\n",
    "$$ \\text{95% True Confidence Interval} ~=~ \\left[3.4456, 4.5544 \\right]$$"
   ]
  },
  {
   "cell_type": "code",
   "execution_count": 104,
   "metadata": {
    "scrolled": true
   },
   "outputs": [
    {
     "data": {
      "image/png": "[encoded data removed]",
      "text/plain": [
       "plot without title"
      ]
     },
     "metadata": {
      "image/png": {
       "height": 420,
       "width": 420
      }
     },
     "output_type": "display_data"
    }
   ],
   "source": [
    "true_lower <- 4-1.96*2/sqrt(n)\n",
    "true_upper <- 4+1.96*2/sqrt(n)\n",
    "\n",
    "ggplot(ci_1k, aes(x=Mean)) +\n",
    "  geom_density() +\n",
    "    lims(x = c(3,5)) +\n",
    "  geom_vline(xintercept = true_lower, colour = \"red\", alpha = 0.6) +\n",
    "  geom_vline(xintercept = mean(ci_1k$Mean), linetype = \"dashed\", alpha = 0.6) +\n",
    "  geom_vline(xintercept = true_upper, colour = \"red\", alpha = 0.6) + \n",
    "  labs( title = \"Distribution of Simulated Sample Means (1,000 draws of n=50)\",\n",
    "        x = \"Mean\",\n",
    "        y = \"Density\")"
   ]
  },
  {
   "cell_type": "markdown",
   "metadata": {},
   "source": [
    "And we see three things:\n",
    "1. Our distribution looks very similar to a normal distribution. If we took more draws or increased our sample size, it would likely smooth out even more.\n",
    "2. The distribution is centered around the true mean $\\mu = 4$\n",
    "3. It seems like a reasonable guess that roughly 0.025 of the distribution's area fall beyond the lower and upper confidence interval lines in each tail."
   ]
  },
  {
   "cell_type": "markdown",
   "metadata": {},
   "source": [
    "## Plotting the Simulated Confidence Intervals\n",
    "\n",
    "Another thing we expect due to the symmetry of the normal distribution is that our confidence interval failures should be symmetric. That is, $bad\\_lower$ and $bad\\_upper$ should be about equal in number.\n",
    "\n",
    "Another way to evaluate this is by plotting the lower versus upper limits and comparing their shape to the horizontal and vertical lines at $\\mu =4$. We would like to see a scatterplot that is symmetric around the 45 degree line through the point $(4,4)$."
   ]
  },
  {
   "cell_type": "code",
   "execution_count": 105,
   "metadata": {},
   "outputs": [
    {
     "data": {
      "image/png": "[encoded data removed]",
      "text/plain": [
       "plot without title"
      ]
     },
     "metadata": {
      "image/png": {
       "height": 420,
       "width": 420
      }
     },
     "output_type": "display_data"
    }
   ],
   "source": [
    "mutate(ci_1k, Outcome = case_when(\n",
    "                         bad_lower == 1 ~ \"Fail High\",\n",
    "                         bad_upper == 1 ~ \"Fail Low\",\n",
    "                         TRUE ~ \"Success\")) %>%\n",
    "ggplot() +\n",
    "geom_point(aes(x = CI_Lower, y = CI_Upper, color = Outcome), alpha = 0.7) +\n",
    "geom_abline(intercept = 8, slope = -1, linetype = \"dotted\") + \n",
    "geom_hline(yintercept = 4, colour = \"red\", alpha = 0.6) +\n",
    "geom_vline(xintercept = 4, colour = \"red\", alpha = 0.6) +\n",
    "labs(x = \"Lower End of Confidence Interval\",\n",
    "    y = \"Upper End of Confidence Interval\",\n",
    "    title = \"Symmetry of Confidence Interval Bounds (1,000 draws of n=50)\")\n",
    "\n",
    "\n"
   ]
  },
  {
   "cell_type": "markdown",
   "metadata": {},
   "source": [
    "And we see exactly that! The distribution of points above/right of the 45 degree line looks to be just about identical as the shape below/left. We can also see the cases where we \"Failed high\" in red (lower limit above 4) and \"Failed Low\" in green (upper limit below 4) occur in similar frequencies and combined represent 5\\% of samples."
   ]
  },
  {
   "cell_type": "markdown",
   "metadata": {},
   "source": [
    "And for those wondering: `case_when()` is basically a decision tree version of `ifelse()`. As we've written it, R starts by checking whether the *bad_lower* variable equals 1, in which case it assigns the value \"Fail High\" to the new variable *Outcome*. If *bad_lower* is zero, then we proceed to the next case. If `bad_upper` is one, we assign \"Fail Low\". Finally, if we don't match either of our two cases (i.e. *TRUE* reflects anything that makes it to the bottom of the tree), then we assign the value \"Success\". \n",
    "\n",
    "If you're familiar with SQL, this is the R version of `CASE WHEN`."
   ]
  },
  {
   "cell_type": "markdown",
   "metadata": {},
   "source": [
    "## What Happens When We Increase the Sample Size?\n",
    "\n",
    "Previously all our samples were of size $n=50$. What if we instead took samples of size $n' = 500$?"
   ]
  },
  {
   "cell_type": "code",
   "execution_count": 106,
   "metadata": {},
   "outputs": [
    {
     "data": {
      "text/html": [
       "<table class=\"dataframe\">\n",
       "<caption>A data.frame: 10 × 4</caption>\n",
       "<thead>\n",
       "\t<tr><th></th><th scope=col>Mean</th><th scope=col>Standard.Deviation</th><th scope=col>CI_Lower</th><th scope=col>CI_Upper</th></tr>\n",
       "\t<tr><th></th><th scope=col>&lt;dbl&gt;</th><th scope=col>&lt;dbl&gt;</th><th scope=col>&lt;dbl&gt;</th><th scope=col>&lt;dbl&gt;</th></tr>\n",
       "</thead>\n",
       "<tbody>\n",
       "\t<tr><th scope=row>1</th><td>3.931452</td><td>2.002461</td><td>3.751489</td><td>4.111416</td></tr>\n",
       "\t<tr><th scope=row>2</th><td>4.173798</td><td>1.874562</td><td>4.005330</td><td>4.342267</td></tr>\n",
       "\t<tr><th scope=row>3</th><td>4.024387</td><td>1.963490</td><td>3.847926</td><td>4.200847</td></tr>\n",
       "\t<tr><th scope=row>4</th><td>4.013690</td><td>1.957715</td><td>3.837749</td><td>4.189632</td></tr>\n",
       "\t<tr><th scope=row>5</th><td>3.835529</td><td>2.030542</td><td>3.653042</td><td>4.018015</td></tr>\n",
       "\t<tr><th scope=row>6</th><td>3.887628</td><td>1.990231</td><td>3.708764</td><td>4.066492</td></tr>\n",
       "\t<tr><th scope=row>7</th><td>4.057659</td><td>1.997909</td><td>3.878105</td><td>4.237213</td></tr>\n",
       "\t<tr><th scope=row>8</th><td>4.055592</td><td>1.994431</td><td>3.876351</td><td>4.234834</td></tr>\n",
       "\t<tr><th scope=row>9</th><td>3.978306</td><td>2.016436</td><td>3.797087</td><td>4.159525</td></tr>\n",
       "\t<tr><th scope=row>10</th><td>3.947347</td><td>1.977175</td><td>3.769656</td><td>4.125037</td></tr>\n",
       "</tbody>\n",
       "</table>\n"
      ],
      "text/latex": [
       "A data.frame: 10 × 4\n",
       "\\begin{tabular}{r|llll}\n",
       "  & Mean & Standard.Deviation & CI\\_Lower & CI\\_Upper\\\\\n",
       "  & <dbl> & <dbl> & <dbl> & <dbl>\\\\\n",
       "\\hline\n",
       "\t1 & 3.931452 & 2.002461 & 3.751489 & 4.111416\\\\\n",
       "\t2 & 4.173798 & 1.874562 & 4.005330 & 4.342267\\\\\n",
       "\t3 & 4.024387 & 1.963490 & 3.847926 & 4.200847\\\\\n",
       "\t4 & 4.013690 & 1.957715 & 3.837749 & 4.189632\\\\\n",
       "\t5 & 3.835529 & 2.030542 & 3.653042 & 4.018015\\\\\n",
       "\t6 & 3.887628 & 1.990231 & 3.708764 & 4.066492\\\\\n",
       "\t7 & 4.057659 & 1.997909 & 3.878105 & 4.237213\\\\\n",
       "\t8 & 4.055592 & 1.994431 & 3.876351 & 4.234834\\\\\n",
       "\t9 & 3.978306 & 2.016436 & 3.797087 & 4.159525\\\\\n",
       "\t10 & 3.947347 & 1.977175 & 3.769656 & 4.125037\\\\\n",
       "\\end{tabular}\n"
      ],
      "text/markdown": [
       "\n",
       "A data.frame: 10 × 4\n",
       "\n",
       "| <!--/--> | Mean &lt;dbl&gt; | Standard.Deviation &lt;dbl&gt; | CI_Lower &lt;dbl&gt; | CI_Upper &lt;dbl&gt; |\n",
       "|---|---|---|---|---|\n",
       "| 1 | 3.931452 | 2.002461 | 3.751489 | 4.111416 |\n",
       "| 2 | 4.173798 | 1.874562 | 4.005330 | 4.342267 |\n",
       "| 3 | 4.024387 | 1.963490 | 3.847926 | 4.200847 |\n",
       "| 4 | 4.013690 | 1.957715 | 3.837749 | 4.189632 |\n",
       "| 5 | 3.835529 | 2.030542 | 3.653042 | 4.018015 |\n",
       "| 6 | 3.887628 | 1.990231 | 3.708764 | 4.066492 |\n",
       "| 7 | 4.057659 | 1.997909 | 3.878105 | 4.237213 |\n",
       "| 8 | 4.055592 | 1.994431 | 3.876351 | 4.234834 |\n",
       "| 9 | 3.978306 | 2.016436 | 3.797087 | 4.159525 |\n",
       "| 10 | 3.947347 | 1.977175 | 3.769656 | 4.125037 |\n",
       "\n"
      ],
      "text/plain": [
       "   Mean     Standard.Deviation CI_Lower CI_Upper\n",
       "1  3.931452 2.002461           3.751489 4.111416\n",
       "2  4.173798 1.874562           4.005330 4.342267\n",
       "3  4.024387 1.963490           3.847926 4.200847\n",
       "4  4.013690 1.957715           3.837749 4.189632\n",
       "5  3.835529 2.030542           3.653042 4.018015\n",
       "6  3.887628 1.990231           3.708764 4.066492\n",
       "7  4.057659 1.997909           3.878105 4.237213\n",
       "8  4.055592 1.994431           3.876351 4.234834\n",
       "9  3.978306 2.016436           3.797087 4.159525\n",
       "10 3.947347 1.977175           3.769656 4.125037"
      ]
     },
     "metadata": {},
     "output_type": "display_data"
    },
    {
     "data": {
      "text/html": [
       "<table class=\"dataframe\">\n",
       "<caption>A data.frame: 10 × 4</caption>\n",
       "<thead>\n",
       "\t<tr><th></th><th scope=col>Mean</th><th scope=col>Standard.Deviation</th><th scope=col>CI_Lower</th><th scope=col>CI_Upper</th></tr>\n",
       "\t<tr><th></th><th scope=col>&lt;dbl&gt;</th><th scope=col>&lt;dbl&gt;</th><th scope=col>&lt;dbl&gt;</th><th scope=col>&lt;dbl&gt;</th></tr>\n",
       "</thead>\n",
       "<tbody>\n",
       "\t<tr><th scope=row>991</th><td>3.963283</td><td>1.986051</td><td>3.784794</td><td>4.141771</td></tr>\n",
       "\t<tr><th scope=row>992</th><td>4.029954</td><td>2.077283</td><td>3.843266</td><td>4.216641</td></tr>\n",
       "\t<tr><th scope=row>993</th><td>4.048748</td><td>2.082544</td><td>3.861588</td><td>4.235908</td></tr>\n",
       "\t<tr><th scope=row>994</th><td>3.826067</td><td>1.873439</td><td>3.657699</td><td>3.994435</td></tr>\n",
       "\t<tr><th scope=row>995</th><td>4.100915</td><td>1.968199</td><td>3.924031</td><td>4.277799</td></tr>\n",
       "\t<tr><th scope=row>996</th><td>3.934183</td><td>1.961589</td><td>3.757893</td><td>4.110473</td></tr>\n",
       "\t<tr><th scope=row>997</th><td>3.923376</td><td>1.907969</td><td>3.751905</td><td>4.094847</td></tr>\n",
       "\t<tr><th scope=row>998</th><td>3.946130</td><td>1.921803</td><td>3.773416</td><td>4.118844</td></tr>\n",
       "\t<tr><th scope=row>999</th><td>3.994839</td><td>2.049273</td><td>3.810669</td><td>4.179009</td></tr>\n",
       "\t<tr><th scope=row>1000</th><td>4.012698</td><td>1.938374</td><td>3.838495</td><td>4.186902</td></tr>\n",
       "</tbody>\n",
       "</table>\n"
      ],
      "text/latex": [
       "A data.frame: 10 × 4\n",
       "\\begin{tabular}{r|llll}\n",
       "  & Mean & Standard.Deviation & CI\\_Lower & CI\\_Upper\\\\\n",
       "  & <dbl> & <dbl> & <dbl> & <dbl>\\\\\n",
       "\\hline\n",
       "\t991 & 3.963283 & 1.986051 & 3.784794 & 4.141771\\\\\n",
       "\t992 & 4.029954 & 2.077283 & 3.843266 & 4.216641\\\\\n",
       "\t993 & 4.048748 & 2.082544 & 3.861588 & 4.235908\\\\\n",
       "\t994 & 3.826067 & 1.873439 & 3.657699 & 3.994435\\\\\n",
       "\t995 & 4.100915 & 1.968199 & 3.924031 & 4.277799\\\\\n",
       "\t996 & 3.934183 & 1.961589 & 3.757893 & 4.110473\\\\\n",
       "\t997 & 3.923376 & 1.907969 & 3.751905 & 4.094847\\\\\n",
       "\t998 & 3.946130 & 1.921803 & 3.773416 & 4.118844\\\\\n",
       "\t999 & 3.994839 & 2.049273 & 3.810669 & 4.179009\\\\\n",
       "\t1000 & 4.012698 & 1.938374 & 3.838495 & 4.186902\\\\\n",
       "\\end{tabular}\n"
      ],
      "text/markdown": [
       "\n",
       "A data.frame: 10 × 4\n",
       "\n",
       "| <!--/--> | Mean &lt;dbl&gt; | Standard.Deviation &lt;dbl&gt; | CI_Lower &lt;dbl&gt; | CI_Upper &lt;dbl&gt; |\n",
       "|---|---|---|---|---|\n",
       "| 991 | 3.963283 | 1.986051 | 3.784794 | 4.141771 |\n",
       "| 992 | 4.029954 | 2.077283 | 3.843266 | 4.216641 |\n",
       "| 993 | 4.048748 | 2.082544 | 3.861588 | 4.235908 |\n",
       "| 994 | 3.826067 | 1.873439 | 3.657699 | 3.994435 |\n",
       "| 995 | 4.100915 | 1.968199 | 3.924031 | 4.277799 |\n",
       "| 996 | 3.934183 | 1.961589 | 3.757893 | 4.110473 |\n",
       "| 997 | 3.923376 | 1.907969 | 3.751905 | 4.094847 |\n",
       "| 998 | 3.946130 | 1.921803 | 3.773416 | 4.118844 |\n",
       "| 999 | 3.994839 | 2.049273 | 3.810669 | 4.179009 |\n",
       "| 1000 | 4.012698 | 1.938374 | 3.838495 | 4.186902 |\n",
       "\n"
      ],
      "text/plain": [
       "     Mean     Standard.Deviation CI_Lower CI_Upper\n",
       "991  3.963283 1.986051           3.784794 4.141771\n",
       "992  4.029954 2.077283           3.843266 4.216641\n",
       "993  4.048748 2.082544           3.861588 4.235908\n",
       "994  3.826067 1.873439           3.657699 3.994435\n",
       "995  4.100915 1.968199           3.924031 4.277799\n",
       "996  3.934183 1.961589           3.757893 4.110473\n",
       "997  3.923376 1.907969           3.751905 4.094847\n",
       "998  3.946130 1.921803           3.773416 4.118844\n",
       "999  3.994839 2.049273           3.810669 4.179009\n",
       "1000 4.012698 1.938374           3.838495 4.186902"
      ]
     },
     "metadata": {},
     "output_type": "display_data"
    }
   ],
   "source": [
    "nprime <- 500\n",
    "# draw 1000 confidence intervals for sample size of 500\n",
    "ci_500 <- map_dfr(rep_len(500, 1000), samp_ci, df = pop)\n",
    "head(ci_500, 10)\n",
    "tail(ci_500, 10)\n"
   ]
  },
  {
   "cell_type": "markdown",
   "metadata": {},
   "source": [
    "First off, we can see that the sample means and standard deviations are much more tightly clustered around the true population mean (4) and standard deviation (2). As a result, our 95% confidence intervals are also much tighter around the true mean."
   ]
  },
  {
   "cell_type": "code",
   "execution_count": 107,
   "metadata": {},
   "outputs": [
    {
     "data": {
      "text/html": [
       "'The fraction of 95% confidence intervals that do not include the true mean of 4 is 0.038'"
      ],
      "text/latex": [
       "'The fraction of 95\\% confidence intervals that do not include the true mean of 4 is 0.038'"
      ],
      "text/markdown": [
       "'The fraction of 95% confidence intervals that do not include the true mean of 4 is 0.038'"
      ],
      "text/plain": [
       "[1] \"The fraction of 95% confidence intervals that do not include the true mean of 4 is 0.038\""
      ]
     },
     "metadata": {},
     "output_type": "display_data"
    }
   ],
   "source": [
    "ci_500 <- mutate(ci_500, bad_lower = (4 < CI_Lower),\n",
    "           bad_upper = (CI_Upper < 4))\n",
    "\n",
    "bad_frac_prime <- (sum(ci_500$bad_lower) + sum(ci_500$bad_upper))/ 1000\n",
    "paste0(\"The fraction of 95% confidence intervals that do not include the true mean of 4 is \", bad_frac_prime)"
   ]
  },
  {
   "cell_type": "markdown",
   "metadata": {},
   "source": [
    "And once again we have about 5% of the (now much narrower) confidence intervals not including the true mean $\\mu =4$."
   ]
  },
  {
   "cell_type": "code",
   "execution_count": 108,
   "metadata": {},
   "outputs": [
    {
     "data": {
      "image/png": "[encoded data removed]",
      "text/plain": [
       "plot without title"
      ]
     },
     "metadata": {
      "image/png": {
       "height": 420,
       "width": 420
      }
     },
     "output_type": "display_data"
    }
   ],
   "source": [
    "true_low_prime <- 4-1.96*2/sqrt(nprime)\n",
    "true_upper_prime <- 4+1.96*2/sqrt(nprime)\n",
    "\n",
    "ggplot(ci_500, aes(x = Mean)) +\n",
    "  geom_density() +\n",
    "lims(x = c(3,5)) +\n",
    "  geom_vline(xintercept = mean(ci_500$Mean), linetype = \"dashed\", alpha = 0.6) +\n",
    "  geom_vline(xintercept = true_low_prime, colour = \"red\", alpha = 0.6) +\n",
    "  geom_vline(xintercept = true_upper_prime, colour = \"red\", alpha = 0.6) + \n",
    "  labs( title = \"Distribution of Simulated Sample Means (1,000 draws of n=500)\",\n",
    "        x = \"Mean\",\n",
    "        y = \"Density\")"
   ]
  },
  {
   "cell_type": "markdown",
   "metadata": {},
   "source": [
    "Our distribution now looks even more like a normal distribution, and is much smoother overall. Notice especially how it is also *much* more tightly concentrated around the true population mean!"
   ]
  },
  {
   "cell_type": "code",
   "execution_count": 109,
   "metadata": {},
   "outputs": [
    {
     "data": {
      "image/png": "[encoded data removed]",
      "text/plain": [
       "plot without title"
      ]
     },
     "metadata": {
      "image/png": {
       "height": 420,
       "width": 420
      }
     },
     "output_type": "display_data"
    }
   ],
   "source": [
    "mutate(ci_500, Outcome = case_when(\n",
    "                         bad_lower == 1 ~ \"Fail High\",\n",
    "                         bad_upper == 1 ~ \"Fail Low\",\n",
    "                         TRUE ~ \"Success\")) %>%\n",
    "ggplot() +\n",
    "geom_point(aes(x = CI_Lower, y = CI_Upper, color = Outcome), alpha = 0.7) +\n",
    "geom_abline(intercept = 8, slope = -1, linetype = \"dotted\") + \n",
    "geom_hline(yintercept = 4, colour = \"red\", alpha = 0.6) +\n",
    "geom_vline(xintercept = 4, colour = \"red\", alpha = 0.6) +\n",
    "labs(x = \"Lower End of Confidence Interval\",\n",
    "    y = \"Upper End of Confidence Interval\",\n",
    "    title = \"Symmetry of Confidence Interval Bounds (1,000 draws of n=500)\")\n"
   ]
  },
  {
   "cell_type": "markdown",
   "metadata": {},
   "source": [
    "Now we can see that there is overall much less spread between the upper and lower confidence intervals for a given sample due to the lower standard errors, with still roughly 5% that don't fall into the first quadrant (i.e. contain the true population mean)."
   ]
  }
 ],
 "metadata": {
  "kernelspec": {
   "display_name": "R",
   "language": "R",
   "name": "ir"
  },
  "language_info": {
   "codemirror_mode": "r",
   "file_extension": ".r",
   "mimetype": "text/x-r-source",
   "name": "R",
   "pygments_lexer": "r",
   "version": "4.1.1"
  }
 },
 "nbformat": 4,
 "nbformat_minor": 2
}
